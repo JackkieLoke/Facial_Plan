{
 "cells": [
  {
   "cell_type": "code",
   "execution_count": 6,
   "metadata": {
    "collapsed": true
   },
   "outputs": [],
   "source": [
    "%matplotlib inline\n",
    "import numpy as np\n",
    "import pandas as pd\n",
    "import matplotlib.pyplot as plt\n",
    "import matplotlib.cm as cm\n",
    "from termcolor import colored\n",
    "from PIL import Image\n",
    "from skimage.transform import resize"
   ]
  },
  {
   "cell_type": "code",
   "execution_count": 9,
   "metadata": {
    "collapsed": false
   },
   "outputs": [
    {
     "name": "stdout",
     "output_type": "stream",
     "text": [
      "the training data shape is  (121, 2)\n",
      "the test data shape is  (40, 2)\n",
      "\u001b[32m(41.32231404958678, ' Percentage complete')\u001b[0m\n",
      "\u001b[32m(82.64462809917356, ' Percentage complete')\u001b[0m\n",
      "the training file shape (121, 3, 224, 224) (121,)\n",
      "the testing file shape (40, 3, 224, 224) (40,)\n"
     ]
    }
   ],
   "source": [
    "train = pd.read_csv('/home/mckc/image class//train.csv')\n",
    "test = pd.read_csv('/home/mckc/image class//test.csv')\n",
    "\n",
    "print 'the training data shape is ',train.shape\n",
    "print 'the test data shape is ', test.shape\n",
    "train_records = train.shape[0]\n",
    "test_records = test.shape[0]\n",
    "    \n",
    "X_tr = np.zeros((1,3,224,224),dtype=np.uint8)\n",
    "Y_tr =[]\n",
    "iteration = 0\n",
    "for i in train.values[:,0]:\n",
    "    image = resize(np.array(Image.open(i),dtype=np.uint8),(224,224,3)).reshape(1,3,224,224)\n",
    "    X_tr =  np.vstack((X_tr,image))\n",
    "    Y_tr = np.append(Y_tr,train.values[iteration,1])\n",
    "    iteration+=1\n",
    "    if iteration % 50==0:\n",
    "        print colored((float(iteration)/train_records*100 ,' Percentage complete'), 'green')\n",
    "    \n",
    "\n",
    "X_tr = X_tr[1:,:,:]\n",
    "                \n",
    "iteration = 0      \n",
    "X_ts = np.zeros((1,3,224,224),dtype=np.uint8)\n",
    "Y_ts = []\n",
    "for i in test.values[:,0]:\n",
    "    image = resize(np.array(Image.open(i),dtype=np.uint8),(224,224,3)).reshape(1,3,224,224)\n",
    "    X_ts =  np.vstack((X_ts,image))\n",
    "    Y_ts = np.append(Y_ts,test.values[iteration,1])\n",
    "    iteration+=1\n",
    "    if iteration % 50==0:\n",
    "        print colored((float(iteration)/test_records*100 ,' Percentage complete'), 'green')\n",
    "    \n",
    "X_ts = X_ts[1:,:,:]\n",
    "print 'the training file shape',X_tr.shape,Y_tr.shape\n",
    "print 'the testing file shape',X_ts.shape,Y_ts.shape"
   ]
  },
  {
   "cell_type": "code",
   "execution_count": 10,
   "metadata": {
    "collapsed": false
   },
   "outputs": [
    {
     "name": "stderr",
     "output_type": "stream",
     "text": [
      "Using Theano backend.\n",
      "WARNING (theano.sandbox.cuda): CUDA is installed, but device gpu is not available  (error: Unable to get the number of gpus available: no CUDA-capable device is detected)\n"
     ]
    }
   ],
   "source": [
    "#from keras.datasets import cifar10\n",
    "from keras.utils import np_utils\n",
    "from keras.preprocessing.image import ImageDataGenerator\n",
    "#(X_train, y_train), (X_test, y_test) = cifar10.load_data()\n",
    "map, Y_number = np.unique(Y_tr, return_inverse=True)\n",
    "Y_test_number = np.unique(Y_ts, return_inverse=True)[1]\n",
    "\n",
    "Y_train = np_utils.to_categorical(Y_number, 7)\n",
    "Y_test = np_utils.to_categorical(Y_test_number, 7)\n",
    "\n",
    "datagen = ImageDataGenerator(\n",
    "    featurewise_center=True,\n",
    "    featurewise_std_normalization=True,\n",
    "    rotation_range=20,\n",
    "    width_shift_range=0.2,\n",
    "    height_shift_range=0.2,\n",
    "    horizontal_flip=True,\n",
    "    )\n",
    "\n",
    "# compute quantities required for featurewise normalization\n",
    "# (std, mean, and principal components if ZCA whitening is applied)\n",
    "datagen.fit(X_tr.astype(np.float32))"
   ]
  },
  {
   "cell_type": "code",
   "execution_count": 15,
   "metadata": {
    "collapsed": true
   },
   "outputs": [],
   "source": [
    "from keras.models import Sequential\n",
    "from keras.layers.core import Flatten, Dense, Dropout\n",
    "from keras.layers.convolutional import Convolution2D, MaxPooling2D, ZeroPadding2D\n",
    "from keras.optimizers import SGD\n",
    "\n",
    "def VGG_16(weights_path=None):\n",
    "    model = Sequential()\n",
    "    model.add(ZeroPadding2D((1,1),input_shape=(3,224,224)))\n",
    "    model.add(Convolution2D(64, 3, 3, activation='relu'))\n",
    "    model.add(ZeroPadding2D((1,1)))\n",
    "    model.add(Convolution2D(64, 3, 3, activation='relu'))\n",
    "    model.add(MaxPooling2D((2,2), strides=(2,2)))\n",
    "\n",
    "    model.add(ZeroPadding2D((1,1)))\n",
    "    model.add(Convolution2D(128, 3, 3, activation='relu'))\n",
    "    model.add(ZeroPadding2D((1,1)))\n",
    "    model.add(Convolution2D(128, 3, 3, activation='relu'))\n",
    "    model.add(MaxPooling2D((2,2), strides=(2,2)))\n",
    "\n",
    "    model.add(ZeroPadding2D((1,1)))\n",
    "    model.add(Convolution2D(256, 3, 3, activation='relu'))\n",
    "    model.add(ZeroPadding2D((1,1)))\n",
    "    model.add(Convolution2D(256, 3, 3, activation='relu'))\n",
    "    model.add(ZeroPadding2D((1,1)))\n",
    "    model.add(Convolution2D(256, 3, 3, activation='relu'))\n",
    "    model.add(MaxPooling2D((2,2), strides=(2,2)))\n",
    "\n",
    "    model.add(ZeroPadding2D((1,1)))\n",
    "    model.add(Convolution2D(512, 3, 3, activation='relu'))\n",
    "    model.add(ZeroPadding2D((1,1)))\n",
    "    model.add(Convolution2D(512, 3, 3, activation='relu'))\n",
    "    model.add(ZeroPadding2D((1,1)))\n",
    "    model.add(Convolution2D(512, 3, 3, activation='relu'))\n",
    "    model.add(MaxPooling2D((2,2), strides=(2,2)))\n",
    "\n",
    "    model.add(ZeroPadding2D((1,1)))\n",
    "    model.add(Convolution2D(512, 3, 3, activation='relu'))\n",
    "    model.add(ZeroPadding2D((1,1)))\n",
    "    model.add(Convolution2D(512, 3, 3, activation='relu'))\n",
    "    model.add(ZeroPadding2D((1,1)))\n",
    "    model.add(Convolution2D(512, 3, 3, activation='relu'))\n",
    "    model.add(MaxPooling2D((2,2), strides=(2,2)))\n",
    "\n",
    "    model.add(Flatten())\n",
    "    model.add(Dense(4096, activation='relu'))\n",
    "    model.add(Dropout(0.5))\n",
    "    model.add(Dense(4096, activation='relu'))\n",
    "    model.add(Dropout(0.5))\n",
    "    model.add(Dense(1000, activation='softmax'))\n",
    "\n",
    "    if weights_path:\n",
    "        model.load_weights(weights_path)\n",
    "\n",
    "    return model\n",
    "\n",
    "model = VGG_16('/home/mckc/Downloads/vgg16_weights.h5')\n",
    "\n",
    "model.layers.pop()\n",
    "model.add(Dense(7, activation='softmax'))\n",
    "\n",
    "sgd = SGD(lr=0.1, decay=1e-6, momentum=0.9, nesterov=True)\n",
    "model.compile(optimizer=sgd, loss='categorical_crossentropy',metrics=['accuracy'])"
   ]
  },
  {
   "cell_type": "code",
   "execution_count": null,
   "metadata": {
    "collapsed": false
   },
   "outputs": [
    {
     "name": "stderr",
     "output_type": "stream",
     "text": [
      "INFO (theano.gof.compilelock): Refreshing lock /home/mckc/.theano/compiledir_Linux-4.4--generic-x86_64-with-debian-jessie-sid-x86_64-2.7.12-64/lock_dir/lock\n"
     ]
    },
    {
     "name": "stdout",
     "output_type": "stream",
     "text": [
      "Train on 121 samples, validate on 40 samples\n",
      "Epoch 1/10\n",
      " 32/121 [======>.......................] - ETA: 117s - loss: 1.9477 - acc: 0.0000e+00"
     ]
    }
   ],
   "source": [
    "model.fit(X_tr.reshape(-1,3,224,224),Y_train,verbose=1,validation_data=(X_ts,Y_test))"
   ]
  },
  {
   "cell_type": "code",
   "execution_count": null,
   "metadata": {
    "collapsed": true
   },
   "outputs": [],
   "source": [
    "# fits the model on batches with real-time data augmentation:\n",
    "model.fit_generator(datagen.flow(X_tr, Y_train, batch_size=32),\n",
    "                    samples_per_epoch=len(X_tr), nb_epoch=100)"
   ]
  }
 ],
 "metadata": {
  "kernelspec": {
   "display_name": "Python 2",
   "language": "python",
   "name": "python2"
  },
  "language_info": {
   "codemirror_mode": {
    "name": "ipython",
    "version": 2
   },
   "file_extension": ".py",
   "mimetype": "text/x-python",
   "name": "python",
   "nbconvert_exporter": "python",
   "pygments_lexer": "ipython2",
   "version": "2.7.12"
  }
 },
 "nbformat": 4,
 "nbformat_minor": 0
}
