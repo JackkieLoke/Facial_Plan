{
 "cells": [
  {
   "cell_type": "code",
   "execution_count": 54,
   "metadata": {
    "collapsed": true
   },
   "outputs": [],
   "source": [
    "import sys\n",
    "import dlib\n",
    "import openface\n",
    "from skimage import io\n",
    "import numpy as np"
   ]
  },
  {
   "cell_type": "code",
   "execution_count": 60,
   "metadata": {
    "collapsed": true
   },
   "outputs": [],
   "source": [
    "#Reading the image data into numpy\n",
    "def rgb2gray(rgb):\n",
    "    return np.dot(rgb[:,:,:], [0.299, 0.587, 0.114])"
   ]
  },
  {
   "cell_type": "code",
   "execution_count": 66,
   "metadata": {
    "collapsed": true
   },
   "outputs": [],
   "source": [
    "def load_data():\n",
    "    import pandas as pd\n",
    "    import numpy as np\n",
    "    from PIL import Image\n",
    "    from termcolor import colored\n",
    "    \n",
    "    train = pd.read_csv('/home/mckc/All Data/train.csv')\n",
    "    test = pd.read_csv('/home/mckc/All Data/test.csv')\n",
    "    print 'the training data shape is ',train.shape\n",
    "    print 'the test data shape is ', test.shape\n",
    "    \n",
    "    X_tr = np.zeros((1,1944,2592),dtype=np.uint8)\n",
    "    iteration = 0\n",
    "    for i in train.values[:,0]:\n",
    "        image = rgb2gray(np.array(Image.open(i))).astype(np.uint8).reshape(1,1944,2592)\n",
    "#     print X_tr.shape,image.shape\n",
    "        X_tr =  np.vstack((X_tr,image))\n",
    "        iteration+=1\n",
    "        if iteration % 50==0:\n",
    "            print colored((float(iteration)/len(train.values[:,0])*100 ,' Percentage complete'), 'green')\n",
    "    Y_tr = train.values[:,1]\n",
    "    X_tr = X_tr[1:,:,:]\n",
    "    X_ts = np.zeros((1,1944,2592),dtype=np.uint8)\n",
    "    for i in test.values[:,0]:\n",
    "        image = rgb2gray(np.array(Image.open(i))).astype(np.uint8).reshape(1,1944,2592)\n",
    "        X_ts = np.vstack((X_ts,image))\n",
    "    Y_ts = test.values[:,1]\n",
    "    X_ts = X_ts[1:,:,:]\n",
    "    print 'the training file shape',X_tr.shape,Y_tr.shape\n",
    "    print 'the testing file shape',X_ts.shape,Y_ts.shape\n",
    "    \n",
    "    return X_tr,X_ts,Y_tr,Y_ts    "
   ]
  },
  {
   "cell_type": "code",
   "execution_count": 62,
   "metadata": {
    "collapsed": true
   },
   "outputs": [],
   "source": [
    "def simulate(X,Y):\n",
    "    import scipy as sp\n",
    "    import scipy.ndimage\n",
    "    complete = np.zeros((1,96,96),dtype=np.uint8)\n",
    "    Y_complete = []\n",
    "    for i in range(len(X)):\n",
    "        complete = np.vstack((complete,X[i,:,:].reshape(1,96,96)))\n",
    "        complete = np.vstack((complete,scipy.ndimage.rotate(X[i,:,:], angle = 5,reshape=False,cval=1).reshape(1,96,96)))\n",
    "        complete = np.vstack((complete,scipy.ndimage.rotate(X[i,:,:], angle = 10,reshape=False,cval=1).reshape(1,96,96)))\n",
    "        complete = np.vstack((complete,scipy.ndimage.rotate(X[i,:,:], angle = 15,reshape=False,cval=1).reshape(1,96,96)))\n",
    "        complete = np.vstack((complete,scipy.ndimage.rotate(X[i,:,:], angle = -5,reshape=False,cval=1).reshape(1,96,96)))\n",
    "        complete = np.vstack((complete,scipy.ndimage.rotate(X[i,:,:], angle = -15,reshape=False,cval=1).reshape(1,96,96)))\n",
    "        complete = np.vstack((complete,scipy.ndimage.rotate(X[i,:,:], angle = -10,reshape=False,cval=1).reshape(1,96,96)))\n",
    "        rotated = np.fliplr(X[i,:,:])\n",
    "        complete = np.vstack((complete,scipy.ndimage.rotate(rotated, angle = 5,reshape=False,cval=1).reshape(1,96,96)))\n",
    "        complete = np.vstack((complete,scipy.ndimage.rotate(rotated, angle = 10,reshape=False,cval=1).reshape(1,96,96)))\n",
    "        complete = np.vstack((complete,scipy.ndimage.rotate(rotated, angle = 15,reshape=False,cval=1).reshape(1,96,96)))\n",
    "        complete = np.vstack((complete,scipy.ndimage.rotate(rotated, angle = -5,reshape=False,cval=1).reshape(1,96,96)))\n",
    "        complete = np.vstack((complete,scipy.ndimage.rotate(rotated, angle = -10,reshape=False,cval=1).reshape(1,96,96)))\n",
    "        complete = np.vstack((complete,scipy.ndimage.rotate(rotated, angle = -15,reshape=False,cval=1).reshape(1,96,96)))\n",
    "        complete = np.vstack((complete,rotated.reshape(1,96,96)))\n",
    "        Y_complete = np.append(Y_complete,([Y[i]]*14))\n",
    "        if i % 10==0:\n",
    "            print colored((float(i)/len(X)*100 ,' Percentage complete'),'green')\n",
    "    complete = complete[1:,:,:]\n",
    "    return complete,Y_complete"
   ]
  },
  {
   "cell_type": "code",
   "execution_count": 63,
   "metadata": {
    "collapsed": true
   },
   "outputs": [],
   "source": [
    "def get_landmarks(im):\n",
    "    predictor_model = \"/home/mckc/Downloads/shape_predictor_68_face_landmarks.dat\"\n",
    "\n",
    "    detector = dlib.get_frontal_face_detector()\n",
    "    predictor = dlib.shape_predictor(predictor_model)\n",
    "    rects = detector(im, 1)\n",
    "    \n",
    "    if len(rects) > 1:\n",
    "        raise TooManyFaces\n",
    "    if len(rects) == 0:\n",
    "        raise NoFaces\n",
    "    coords = np.array([[p.x, p.y] for p in predictor(im, rects[0]).parts()])\n",
    "    centroid = coords.mean(axis=0)\n",
    "    return ((coords - centroid )/centroid).reshape(1,136)"
   ]
  },
  {
   "cell_type": "code",
   "execution_count": 64,
   "metadata": {
    "collapsed": true
   },
   "outputs": [],
   "source": [
    "def landmarks_data(X):\n",
    "    cords = np.zeros((1,96),dtype=np.uint8)\n",
    "    cords = np.append(cords,get_landmarks(X))\n",
    "    return cords[1:,:]    "
   ]
  },
  {
   "cell_type": "code",
   "execution_count": 67,
   "metadata": {
    "collapsed": false
   },
   "outputs": [
    {
     "name": "stdout",
     "output_type": "stream",
     "text": [
      "the training data shape is  (586, 2)\n",
      "the test data shape is  (195, 2)\n",
      "\u001b[32m(8.532423208191126, ' Percentage complete')\u001b[0m\n",
      "\u001b[32m(17.064846416382252, ' Percentage complete')\u001b[0m\n",
      "\u001b[32m(25.597269624573375, ' Percentage complete')\u001b[0m\n",
      "\u001b[32m(34.129692832764505, ' Percentage complete')\u001b[0m\n",
      "\u001b[32m(42.66211604095563, ' Percentage complete')\u001b[0m\n",
      "\u001b[32m(51.19453924914675, ' Percentage complete')\u001b[0m\n",
      "\u001b[32m(59.72696245733788, ' Percentage complete')\u001b[0m\n",
      "\u001b[32m(68.25938566552901, ' Percentage complete')\u001b[0m\n",
      "\u001b[32m(76.79180887372013, ' Percentage complete')\u001b[0m\n",
      "\u001b[32m(85.32423208191126, ' Percentage complete')\u001b[0m\n",
      "\u001b[32m(93.85665529010238, ' Percentage complete')\u001b[0m\n",
      "the training file shape (586, 1944, 2592) (586,)\n",
      "the testing file shape (195, 1944, 2592) (195,)\n"
     ]
    }
   ],
   "source": [
    "X_tr,X_tst,Y_tr,Y_tst = load_data()"
   ]
  },
  {
   "cell_type": "code",
   "execution_count": null,
   "metadata": {
    "collapsed": false
   },
   "outputs": [],
   "source": [
    "import time\n",
    "start_time = time.clock()\n",
    "X,Y = simulate(X_tr,Y_tr)\n",
    "print X.shape,Y.shape\n",
    "print time.clock() - start_time, \"seconds\""
   ]
  },
  {
   "cell_type": "code",
   "execution_count": 41,
   "metadata": {
    "collapsed": true
   },
   "outputs": [],
   "source": [
    "def standard(X):\n",
    "    return (X - X.mean())/X.max()\n",
    "\n",
    "X_test = standard(X_test)\n",
    "X = standard(X)"
   ]
  },
  {
   "cell_type": "code",
   "execution_count": 53,
   "metadata": {
    "collapsed": false
   },
   "outputs": [
    {
     "ename": "RuntimeError",
     "evalue": "Unsupported image type, must be 8bit gray or RGB image.",
     "output_type": "error",
     "traceback": [
      "\u001b[1;31m---------------------------------------------------------------------------\u001b[0m",
      "\u001b[1;31mRuntimeError\u001b[0m                              Traceback (most recent call last)",
      "\u001b[1;32m<ipython-input-53-1a375a1985b8>\u001b[0m in \u001b[0;36m<module>\u001b[1;34m()\u001b[0m\n\u001b[1;32m----> 1\u001b[1;33m \u001b[0mtrain_landmarks\u001b[0m \u001b[1;33m=\u001b[0m \u001b[0mlandmarks_data\u001b[0m\u001b[1;33m(\u001b[0m\u001b[0mnp\u001b[0m\u001b[1;33m.\u001b[0m\u001b[0marray\u001b[0m\u001b[1;33m(\u001b[0m\u001b[0mX\u001b[0m\u001b[1;33m*\u001b[0m\u001b[1;36m255\u001b[0m\u001b[1;33m,\u001b[0m\u001b[0mdtype\u001b[0m\u001b[1;33m=\u001b[0m\u001b[0mnp\u001b[0m\u001b[1;33m.\u001b[0m\u001b[0muint8\u001b[0m\u001b[1;33m)\u001b[0m\u001b[1;33m-\u001b[0m\u001b[1;36m1\u001b[0m\u001b[1;33m)\u001b[0m\u001b[1;33m\u001b[0m\u001b[0m\n\u001b[0m\u001b[0;32m      2\u001b[0m \u001b[0mtest_landmarks\u001b[0m \u001b[1;33m=\u001b[0m \u001b[0mlandmarks_data\u001b[0m\u001b[1;33m(\u001b[0m\u001b[0mnp\u001b[0m\u001b[1;33m.\u001b[0m\u001b[0marray\u001b[0m\u001b[1;33m(\u001b[0m\u001b[0mX_test\u001b[0m\u001b[1;33m*\u001b[0m\u001b[1;36m255\u001b[0m\u001b[1;33m,\u001b[0m\u001b[0mdtype\u001b[0m\u001b[1;33m=\u001b[0m\u001b[0mnp\u001b[0m\u001b[1;33m.\u001b[0m\u001b[0muint8\u001b[0m\u001b[1;33m)\u001b[0m\u001b[1;33m-\u001b[0m\u001b[1;36m1\u001b[0m\u001b[1;33m)\u001b[0m\u001b[1;33m\u001b[0m\u001b[0m\n",
      "\u001b[1;32m<ipython-input-12-a0c9b14ba247>\u001b[0m in \u001b[0;36mlandmarks_data\u001b[1;34m(X)\u001b[0m\n\u001b[0;32m      2\u001b[0m     \u001b[1;32mimport\u001b[0m \u001b[0mnumpy\u001b[0m \u001b[1;32mas\u001b[0m \u001b[0mnp\u001b[0m\u001b[1;33m\u001b[0m\u001b[0m\n\u001b[0;32m      3\u001b[0m     \u001b[0mcords\u001b[0m \u001b[1;33m=\u001b[0m \u001b[0mnp\u001b[0m\u001b[1;33m.\u001b[0m\u001b[0mzeros\u001b[0m\u001b[1;33m(\u001b[0m\u001b[1;33m(\u001b[0m\u001b[1;36m1\u001b[0m\u001b[1;33m,\u001b[0m\u001b[1;36m96\u001b[0m\u001b[1;33m)\u001b[0m\u001b[1;33m,\u001b[0m\u001b[0mdtype\u001b[0m\u001b[1;33m=\u001b[0m\u001b[0mnp\u001b[0m\u001b[1;33m.\u001b[0m\u001b[0muint8\u001b[0m\u001b[1;33m)\u001b[0m\u001b[1;33m\u001b[0m\u001b[0m\n\u001b[1;32m----> 4\u001b[1;33m     \u001b[0mcords\u001b[0m \u001b[1;33m=\u001b[0m \u001b[0mnp\u001b[0m\u001b[1;33m.\u001b[0m\u001b[0mappend\u001b[0m\u001b[1;33m(\u001b[0m\u001b[0mcords\u001b[0m\u001b[1;33m,\u001b[0m\u001b[0mget_landmarks\u001b[0m\u001b[1;33m(\u001b[0m\u001b[0mX\u001b[0m\u001b[1;33m)\u001b[0m\u001b[1;33m)\u001b[0m\u001b[1;33m\u001b[0m\u001b[0m\n\u001b[0m\u001b[0;32m      5\u001b[0m     \u001b[1;32mreturn\u001b[0m \u001b[0mcords\u001b[0m\u001b[1;33m[\u001b[0m\u001b[1;36m1\u001b[0m\u001b[1;33m:\u001b[0m\u001b[1;33m,\u001b[0m\u001b[1;33m:\u001b[0m\u001b[1;33m]\u001b[0m\u001b[1;33m\u001b[0m\u001b[0m\n",
      "\u001b[1;32m<ipython-input-17-dba59f5c6397>\u001b[0m in \u001b[0;36mget_landmarks\u001b[1;34m(im)\u001b[0m\n\u001b[0;32m      6\u001b[0m     \u001b[0mdetector\u001b[0m \u001b[1;33m=\u001b[0m \u001b[0mdlib\u001b[0m\u001b[1;33m.\u001b[0m\u001b[0mget_frontal_face_detector\u001b[0m\u001b[1;33m(\u001b[0m\u001b[1;33m)\u001b[0m\u001b[1;33m\u001b[0m\u001b[0m\n\u001b[0;32m      7\u001b[0m     \u001b[0mpredictor\u001b[0m \u001b[1;33m=\u001b[0m \u001b[0mdlib\u001b[0m\u001b[1;33m.\u001b[0m\u001b[0mshape_predictor\u001b[0m\u001b[1;33m(\u001b[0m\u001b[0mpredictor_model\u001b[0m\u001b[1;33m)\u001b[0m\u001b[1;33m\u001b[0m\u001b[0m\n\u001b[1;32m----> 8\u001b[1;33m     \u001b[0mrects\u001b[0m \u001b[1;33m=\u001b[0m \u001b[0mdetector\u001b[0m\u001b[1;33m(\u001b[0m\u001b[0mim\u001b[0m\u001b[1;33m,\u001b[0m \u001b[1;36m1\u001b[0m\u001b[1;33m)\u001b[0m\u001b[1;33m\u001b[0m\u001b[0m\n\u001b[0m\u001b[0;32m      9\u001b[0m \u001b[1;33m\u001b[0m\u001b[0m\n\u001b[0;32m     10\u001b[0m     \u001b[1;32mif\u001b[0m \u001b[0mlen\u001b[0m\u001b[1;33m(\u001b[0m\u001b[0mrects\u001b[0m\u001b[1;33m)\u001b[0m \u001b[1;33m>\u001b[0m \u001b[1;36m1\u001b[0m\u001b[1;33m:\u001b[0m\u001b[1;33m\u001b[0m\u001b[0m\n",
      "\u001b[1;31mRuntimeError\u001b[0m: Unsupported image type, must be 8bit gray or RGB image."
     ]
    }
   ],
   "source": [
    "train_landmarks = landmarks_data(np.array(X*255,dtype=np.uint8)-1)\n",
    "test_landmarks = landmarks_data(np.array(X_test*255,dtype=np.uint8)-1)"
   ]
  },
  {
   "cell_type": "code",
   "execution_count": 44,
   "metadata": {
    "collapsed": false
   },
   "outputs": [
    {
     "data": {
      "text/plain": [
       "0.48332200647741463"
      ]
     },
     "execution_count": 44,
     "metadata": {},
     "output_type": "execute_result"
    }
   ],
   "source": [
    "X.max()"
   ]
  },
  {
   "cell_type": "code",
   "execution_count": 51,
   "metadata": {
    "collapsed": false
   },
   "outputs": [
    {
     "data": {
      "text/plain": [
       "array([[87, 86, 87, ..., 84, 84, 81],\n",
       "       [87, 87, 86, ..., 84, 82, 82],\n",
       "       [86, 86, 87, ..., 82, 84, 84],\n",
       "       ..., \n",
       "       [64, 65, 66, ..., 66, 65, 66],\n",
       "       [65, 63, 65, ..., 64, 64, 63],\n",
       "       [63, 62, 63, ..., 64, 64, 63]], dtype=uint8)"
      ]
     },
     "execution_count": 51,
     "metadata": {},
     "output_type": "execute_result"
    }
   ],
   "source": [
    "np.array(X*255,dtype=np.uint8)[1,:]"
   ]
  },
  {
   "cell_type": "code",
   "execution_count": null,
   "metadata": {
    "collapsed": true
   },
   "outputs": [],
   "source": []
  }
 ],
 "metadata": {
  "kernelspec": {
   "display_name": "Python 2",
   "language": "python",
   "name": "python2"
  },
  "language_info": {
   "codemirror_mode": {
    "name": "ipython",
    "version": 2
   },
   "file_extension": ".py",
   "mimetype": "text/x-python",
   "name": "python",
   "nbconvert_exporter": "python",
   "pygments_lexer": "ipython2",
   "version": "2.7.12"
  }
 },
 "nbformat": 4,
 "nbformat_minor": 0
}
