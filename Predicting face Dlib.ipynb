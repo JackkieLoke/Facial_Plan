{
 "cells": [
  {
   "cell_type": "code",
   "execution_count": 1,
   "metadata": {
    "collapsed": true
   },
   "outputs": [],
   "source": [
    "import cv2\n",
    "import numpy as np\n",
    "#import scipy.misc\n",
    "#import os\n",
    "#import time\n",
    "#os.chdir(\"/home/mckc/Imagedb/\")\n",
    "#import uuid\n",
    "import dlib\n",
    "\n",
    "detector = dlib.get_frontal_face_detector()\n",
    "video_capture = cv2.VideoCapture(0)"
   ]
  },
  {
   "cell_type": "code",
   "execution_count": 2,
   "metadata": {
    "collapsed": true
   },
   "outputs": [],
   "source": [
    "import cPickle\n",
    "def standard(X):\n",
    "    return (X - X.mean())/X.max()\n",
    "\n",
    "def Pre_Process(face):\n",
    "    from skimage.transform import resize\n",
    "    X = standard(resize(face,(96,96))).reshape(-1,1,96,96)\n",
    "    X_normal = X.reshape(-1,9216)\n",
    "    return X,X_normal\n",
    "\n",
    "# load it again\n",
    "with open('/home/mckc/linear_model.pkl', 'rb') as fid:\n",
    "    Net = cPickle.load(fid)\n",
    "    \n",
    "map = np.load('/home/mckc/map.npy')"
   ]
  },
  {
   "cell_type": "code",
   "execution_count": 3,
   "metadata": {
    "collapsed": false
   },
   "outputs": [],
   "source": [
    "while True:\n",
    "    # Capture frame-by-frame\n",
    "    #time.sleep(1)\n",
    "    ret, frame = video_capture.read()\n",
    "\n",
    "    gray = cv2.cvtColor(frame, cv2.COLOR_BGR2GRAY)\n",
    "    faces = detector(frame.astype(np.uint8), 1)\n",
    "    # Draw a rectangle around the faces\n",
    "    if len(faces)>0:    \n",
    "        for a,b in enumerate(faces):\n",
    "            fac = np.array(gray)[b.top():b.bottom(),b.left():b.right()]       \n",
    "            X,X_normal = Pre_Process(fac)\n",
    "            Probability = Net.predict_proba(X.reshape(-1,9216))\n",
    "            prob = np.amax(Probability)\n",
    "            index = np.argmax(Probability)\n",
    "            cv2.rectangle(frame, (b.left(), b.bottom()), (b.right(), b.top()), (255, 255, 255), 1)\n",
    "            cv2.putText(frame,str(map[index])+' '+str(round(prob*100,2) )+'%',(b.left(),b.top()), cv2.FONT_HERSHEY_DUPLEX,1,(255,255,255), 1,2)            \n",
    "            #scipy.misc.toimage(fac).save(str(uuid.uuid4()) +'.jpg')\n",
    "\n",
    "    # Display the resulting frame\n",
    "    cv2.imshow('Video', frame)\n",
    "    if cv2.waitKey(1) & 0xFF == ord('q'):\n",
    "            break\n",
    "        \n",
    "\n",
    "\n",
    "# When everything is done, release the capture\n",
    "video_capture.release()\n",
    "cv2.destroyAllWindows()\n"
   ]
  },
  {
   "cell_type": "code",
   "execution_count": null,
   "metadata": {
    "collapsed": true
   },
   "outputs": [],
   "source": []
  },
  {
   "cell_type": "code",
   "execution_count": null,
   "metadata": {
    "collapsed": true
   },
   "outputs": [],
   "source": []
  }
 ],
 "metadata": {
  "kernelspec": {
   "display_name": "Python 2",
   "language": "python",
   "name": "python2"
  },
  "language_info": {
   "codemirror_mode": {
    "name": "ipython",
    "version": 2
   },
   "file_extension": ".py",
   "mimetype": "text/x-python",
   "name": "python",
   "nbconvert_exporter": "python",
   "pygments_lexer": "ipython2",
   "version": "2.7.12"
  }
 },
 "nbformat": 4,
 "nbformat_minor": 0
}
