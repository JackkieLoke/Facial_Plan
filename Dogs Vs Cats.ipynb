{
 "cells": [
  {
   "cell_type": "code",
   "execution_count": 1,
   "metadata": {
    "collapsed": true
   },
   "outputs": [],
   "source": [
    "#import libraries\n",
    "import os\n",
    "import cv2\n",
    "import numpy as np\n",
    "from scipy.sparse import lil_matrix\n",
    "from scipy.stats import expon\n",
    "from sklearn.decomposition import RandomizedPCA\n",
    "from sklearn import cross_validation\n",
    "from sklearn import svm\n",
    "from sklearn import metrics\n",
    "from sklearn import preprocessing\n",
    "from time import time\n",
    "from sklearn.grid_search  import GridSearchCV\n",
    "from sklearn.neural_network import BernoulliRBM\n",
    "\n",
    "\n",
    "wd = '/home/mckc/Downloads/Dogs and cats/' #change this to make the code work\n",
    "dataTrainDir = '/home/mckc/Downloads/Dogs and cats/train/'\n",
    "dataTestDir = '/home/mckc/Downloads/Dogs and cats/test1/'\n",
    "\n",
    "os.chdir(wd)\n",
    "\n",
    "labels = ['cat.', 'dog.']\n",
    "desiredDimensions = [30, 30]"
   ]
  },
  {
   "cell_type": "code",
   "execution_count": 2,
   "metadata": {
    "collapsed": true
   },
   "outputs": [],
   "source": [
    "\n",
    "#define loading and pre-processing function grayscale\n",
    "def preprocessImg(animal, number, dim1, dim2, dataDir):\n",
    "    imageName = '{0:s}{1:s}{2:d}{3:s}'.format(dataDir, animal, number, '.jpg')\n",
    "    npImage = cv2.imread(imageName)\n",
    "    npImage = cv2.cvtColor(npImage, cv2.COLOR_BGR2GRAY)\n",
    "    #vectorof255s =  np.tile(255., (npImage.shape[0], npImage.shape [1]))\n",
    "    #npImage = np.divide(npImage, vectorof255s)\n",
    "    avg = np.mean(npImage.reshape(1, npImage.shape[0] * npImage.shape [1]))\n",
    "    avg = np.tile(avg, (npImage.shape[0], npImage.shape [1]))\n",
    "    npImage = npImage - avg\n",
    "    npImage = cv2.resize(npImage, (dim1, dim2))\n",
    "    return(npImage.reshape(1, dim1 * dim2))\n",
    "\n",
    "#m = 1000 #pet Train dataset\n",
    "m = 12500 #full Train dataset\n",
    "mTest = 12500 #number of images in the test set\n",
    "\n",
    "\n",
    "indexesIm = np.random.permutation(m * len(labels))\n",
    "idxImages = np.tile(range(m), len(labels))\n",
    "idxImages = idxImages[indexesIm]\n",
    "testIndexes = range(len(indexesIm), len(indexesIm) + mTest)\n",
    "y = np.append(np.tile(0, m), np.tile(1, m))\n",
    "y = y[indexesIm]\n",
    "\n",
    "def animalInput(theNumber):\n",
    "    if theNumber == 0:\n",
    "        return 'cat.'\n",
    "    elif theNumber == 1:\n",
    "        return 'dog.'\n",
    "    else:\n",
    "        return ''\n"
   ]
  },
  {
   "cell_type": "code",
   "execution_count": 5,
   "metadata": {
    "collapsed": false
   },
   "outputs": [
    {
     "ename": "ValueError",
     "evalue": "setting an array element with a sequence.",
     "output_type": "error",
     "traceback": [
      "\u001b[1;31m---------------------------------------------------------------------------\u001b[0m",
      "\u001b[1;31mValueError\u001b[0m                                Traceback (most recent call last)",
      "\u001b[1;32m<ipython-input-5-81fd44718530>\u001b[0m in \u001b[0;36m<module>\u001b[1;34m()\u001b[0m\n\u001b[0;32m     24\u001b[0m \u001b[1;31m#Reduce features to main components so that they contain 99% of variance\u001b[0m\u001b[1;33m\u001b[0m\u001b[1;33m\u001b[0m\u001b[0m\n\u001b[0;32m     25\u001b[0m \u001b[0mpca\u001b[0m \u001b[1;33m=\u001b[0m \u001b[0mRandomizedPCA\u001b[0m\u001b[1;33m(\u001b[0m\u001b[0mn_components\u001b[0m\u001b[1;33m=\u001b[0m\u001b[1;36m250\u001b[0m\u001b[1;33m,\u001b[0m \u001b[0mwhiten\u001b[0m \u001b[1;33m=\u001b[0m \u001b[0mTrue\u001b[0m\u001b[1;33m)\u001b[0m\u001b[1;33m\u001b[0m\u001b[0m\n\u001b[1;32m---> 26\u001b[1;33m \u001b[0mpca\u001b[0m\u001b[1;33m.\u001b[0m\u001b[0mfit\u001b[0m\u001b[1;33m(\u001b[0m\u001b[0mnp\u001b[0m\u001b[1;33m.\u001b[0m\u001b[0marray\u001b[0m\u001b[1;33m(\u001b[0m\u001b[0mbigMatrix\u001b[0m\u001b[1;33m)\u001b[0m\u001b[1;33m)\u001b[0m\u001b[1;33m\u001b[0m\u001b[0m\n\u001b[0m\u001b[0;32m     27\u001b[0m \u001b[0mvarianceExplained\u001b[0m \u001b[1;33m=\u001b[0m \u001b[0mpca\u001b[0m\u001b[1;33m.\u001b[0m\u001b[0mexplained_variance_ratio_\u001b[0m\u001b[1;33m\u001b[0m\u001b[0m\n\u001b[0;32m     28\u001b[0m \u001b[1;32mprint\u001b[0m\u001b[1;33m(\u001b[0m\u001b[0mpca\u001b[0m\u001b[1;33m.\u001b[0m\u001b[0mexplained_variance_ratio_\u001b[0m\u001b[1;33m)\u001b[0m\u001b[1;33m\u001b[0m\u001b[0m\n",
      "\u001b[1;32m/home/mckc/anaconda/lib/python2.7/site-packages/sklearn/decomposition/pca.pyc\u001b[0m in \u001b[0;36mfit\u001b[1;34m(self, X, y)\u001b[0m\n\u001b[0;32m    569\u001b[0m             \u001b[0mReturns\u001b[0m \u001b[0mthe\u001b[0m \u001b[0minstance\u001b[0m \u001b[0mitself\u001b[0m\u001b[1;33m.\u001b[0m\u001b[1;33m\u001b[0m\u001b[0m\n\u001b[0;32m    570\u001b[0m         \"\"\"\n\u001b[1;32m--> 571\u001b[1;33m         \u001b[0mself\u001b[0m\u001b[1;33m.\u001b[0m\u001b[0m_fit\u001b[0m\u001b[1;33m(\u001b[0m\u001b[0mcheck_array\u001b[0m\u001b[1;33m(\u001b[0m\u001b[0mX\u001b[0m\u001b[1;33m)\u001b[0m\u001b[1;33m)\u001b[0m\u001b[1;33m\u001b[0m\u001b[0m\n\u001b[0m\u001b[0;32m    572\u001b[0m         \u001b[1;32mreturn\u001b[0m \u001b[0mself\u001b[0m\u001b[1;33m\u001b[0m\u001b[0m\n\u001b[0;32m    573\u001b[0m \u001b[1;33m\u001b[0m\u001b[0m\n",
      "\u001b[1;32m/home/mckc/anaconda/lib/python2.7/site-packages/sklearn/utils/validation.pyc\u001b[0m in \u001b[0;36mcheck_array\u001b[1;34m(array, accept_sparse, dtype, order, copy, force_all_finite, ensure_2d, allow_nd, ensure_min_samples, ensure_min_features, warn_on_dtype, estimator)\u001b[0m\n\u001b[0;32m    371\u001b[0m                                       force_all_finite)\n\u001b[0;32m    372\u001b[0m     \u001b[1;32melse\u001b[0m\u001b[1;33m:\u001b[0m\u001b[1;33m\u001b[0m\u001b[0m\n\u001b[1;32m--> 373\u001b[1;33m         \u001b[0marray\u001b[0m \u001b[1;33m=\u001b[0m \u001b[0mnp\u001b[0m\u001b[1;33m.\u001b[0m\u001b[0marray\u001b[0m\u001b[1;33m(\u001b[0m\u001b[0marray\u001b[0m\u001b[1;33m,\u001b[0m \u001b[0mdtype\u001b[0m\u001b[1;33m=\u001b[0m\u001b[0mdtype\u001b[0m\u001b[1;33m,\u001b[0m \u001b[0morder\u001b[0m\u001b[1;33m=\u001b[0m\u001b[0morder\u001b[0m\u001b[1;33m,\u001b[0m \u001b[0mcopy\u001b[0m\u001b[1;33m=\u001b[0m\u001b[0mcopy\u001b[0m\u001b[1;33m)\u001b[0m\u001b[1;33m\u001b[0m\u001b[0m\n\u001b[0m\u001b[0;32m    374\u001b[0m \u001b[1;33m\u001b[0m\u001b[0m\n\u001b[0;32m    375\u001b[0m         \u001b[1;32mif\u001b[0m \u001b[0mensure_2d\u001b[0m\u001b[1;33m:\u001b[0m\u001b[1;33m\u001b[0m\u001b[0m\n",
      "\u001b[1;31mValueError\u001b[0m: setting an array element with a sequence."
     ]
    }
   ],
   "source": [
    "\n",
    "#Build the sparse matrix with the preprocessed image data for both train and test data\n",
    "bigMatrix = lil_matrix((len(indexesIm) + len(testIndexes), desiredDimensions[0] * desiredDimensions[1]))\n",
    "\n",
    "for i in range(len(indexesIm)):\n",
    "    bigMatrix[i, :] = preprocessImg(animalInput(y[i]), idxImages[i], desiredDimensions[0], desiredDimensions[1], dataTrainDir)\n",
    "\n",
    "someNumbers = range(mTest)\n",
    "for ii in someNumbers:\n",
    "    bigMatrix[testIndexes[ii], :] = preprocessImg(animalInput('printNothing'), ii + 1, desiredDimensions[0], desiredDimensions[1], dataTestDir)\n",
    "\n",
    "#Transform to csr matrix and standarization\n",
    "bigMatrix = bigMatrix.tocsr()\n",
    "bigMatrix = preprocessing.scale(bigMatrix, with_mean=False)\n",
    "\n",
    "#extract features with neural nets (Restricted Boltzmann Machine)\n",
    "#RBM = BernoulliRBM(verbose = True)\n",
    "#RBM.learning_rate = 0.06\n",
    "#RBM.n_iter = 20\n",
    "#RBM.n_components = 100\n",
    "#min_max_scaler = preprocessing.MinMaxScaler()\n",
    "#RBM.fit(min_max_scaler.fit_transform((bigMatrix.todense()))\n",
    "\n",
    "#Reduce features to main components so that they contain 99% of variance\n",
    "pca = RandomizedPCA(n_components=250, whiten = True)\n",
    "pca.fit(np.array(bigMatrix))\n",
    "varianceExplained = pca.explained_variance_ratio_\n",
    "print(pca.explained_variance_ratio_)\n",
    "\n",
    "def anonFunOne(vector):\n",
    "    variance = 0\n",
    "    for ii in range(len(vector)):\n",
    "            variance += vector[ii]\n",
    "            if variance > 0.99:\n",
    "                return (ii)\n",
    "                break\n",
    "\n",
    "bigMatrix = pca.fit_transform(bigMatrix, y = anonFunOne(varianceExplained))\n",
    "\n",
    "#Divide train Matrix and Test Matrix (for which I don't have labels)\n",
    "trainMatrixReduced = bigMatrix[0:max(indexesIm), :]\n",
    "testMatrixReduced = bigMatrix[testIndexes[0]:bigMatrix.shape[0], :]\n"
   ]
  },
  {
   "cell_type": "code",
   "execution_count": null,
   "metadata": {
    "collapsed": true
   },
   "outputs": [],
   "source": [
    "\n",
    "#Divide dataset for cross validation purposes\n",
    "X_train, X_test, y_train, y_test = cross_validation.train_test_split(\n",
    "    trainMatrixReduced, y[0:24999], test_size=0.4, random_state=0) #fix this\n",
    "\n",
    "#random grid search of hiperparameters\n",
    "#create a classifier\n",
    "clf = svm.SVC(verbose = True)\n",
    "\n",
    "# specify parameters and distributions to sample from\n",
    "params2Test = {'C': [1, 3, 10, 30, 100, 300], 'gamma': [0.001], 'kernel': ['rbf']}\n",
    "\n",
    "#run randomized search\n",
    "grid_search = GridSearchCV(clf, param_grid = params2Test)\n",
    "\n",
    "start = time()\n",
    "grid_search.fit(trainMatrixReduced, y[0:24999])\n",
    "print(\"GridSearchCV took %.2f seconds for %d candidate parameter settings.\" % (time() - start, len(grid_search.grid_scores_)))\n",
    "type(grid_search)\n",
    "grid_search.grid_scores_\n",
    "\n",
    "#Machine Learning part\n",
    "#Support vector machine model\n",
    "clf.fit(X_train, y_train)\n",
    "\n",
    "#prediction\n",
    "predictionFromDataset = clf.predict(X_test)\n",
    "\n",
    "correctValues = sum(predictionFromDataset == y_test)\n",
    "percentage = float(correctValues)/len(y_test)\n",
    "\n",
    "print(percentage)\n",
    "\n",
    "#prediction probability\n",
    "predictionFromDataset2 = clf.predict_proba(X_test)\n",
    "predictionFromDataset2 = predictionFromDataset2[:, 1]\n",
    "fpr, tpr, thresholds = metrics.roc_curve(y_test, predictionFromDataset2)\n",
    "predictionProbability = metrics.auc(fpr, tpr)\n",
    "\n",
    "#Predict images from the test set\n",
    "#Train the model with full data set\n",
    "clf = svm.SVC(C = 10, gamma = 0.001, kernel= 'rbf',verbose = True)\n",
    "clf.fit(trainMatrixReduced, y[0:24999]) #fix this\n",
    "\n",
    "#Prediction\n",
    "#predictionFromTest = clf.predict_proba(testMatrixReduced)\n",
    "predictionFromTest = clf.predict(testMatrixReduced)\n",
    "#label = predictionFromTest[:, 1]\n",
    "idVector = range(1, mTest + 1)\n",
    "\n",
    "#predictionsToCsv = np.column_stack((idVector, label))\n",
    "predictionsToCsv = np.column_stack((idVector, predictionFromTest))"
   ]
  },
  {
   "cell_type": "code",
   "execution_count": null,
   "metadata": {
    "collapsed": true
   },
   "outputs": [],
   "source": []
  }
 ],
 "metadata": {
  "kernelspec": {
   "display_name": "Python 2",
   "language": "python",
   "name": "python2"
  },
  "language_info": {
   "codemirror_mode": {
    "name": "ipython",
    "version": 2
   },
   "file_extension": ".py",
   "mimetype": "text/x-python",
   "name": "python",
   "nbconvert_exporter": "python",
   "pygments_lexer": "ipython2",
   "version": "2.7.12"
  }
 },
 "nbformat": 4,
 "nbformat_minor": 0
}
