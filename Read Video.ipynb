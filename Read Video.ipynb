{
 "cells": [
  {
   "cell_type": "code",
   "execution_count": 3,
   "metadata": {
    "collapsed": false
   },
   "outputs": [],
   "source": [
    "import numpy as np\n",
    "import cv2\n",
    "import time\n",
    "import os\n",
    "os.chdir(\"/home/mckc/Imagedb/\")\n",
    "import uuid\n",
    "import scipy.misc\n",
    "\n",
    "\n",
    "face_cascade = cv2.CascadeClassifier('/home/mckc/Downloads/opencv-2.4.13/data/haarcascades_GPU/haarcascade_frontalface_default.xml')\n",
    "cap = cv2.VideoCapture('/home/mckc/Downloads/2.mp4')"
   ]
  },
  {
   "cell_type": "code",
   "execution_count": null,
   "metadata": {
    "collapsed": false
   },
   "outputs": [],
   "source": [
    "i = 0\n",
    "while(cap.grab()):\n",
    "    #print 'inside'    \n",
    "    time.sleep(0.01)\n",
    "    ret, frame = cap.read()\n",
    "    if i % 9 == 0:\n",
    "        gray = cv2.cvtColor(frame, cv2.COLOR_BGR2GRAY)\n",
    "        cv2.imshow('Video', gray)\n",
    "        gray = cv2.equalizeHist(gray)\n",
    "        faces = face_cascade.detectMultiScale(gray,\n",
    "        scaleFactor=1.1,\n",
    "        minNeighbors=5,\n",
    "        minSize=(50, 50),flags=cv2.cv.CV_HAAR_SCALE_IMAGE)\n",
    "            # Draw a rectangle around the faces\n",
    "        if len(faces)>0:    \n",
    "            for (x, y, w, h) in faces:\n",
    "                cv2.rectangle(frame, (x, y), (x+w, y+h), (0, 255, 0), 2)\n",
    "                fac = np.array(gray)[y:(y+h),x:(x+h)]\n",
    "                scipy.misc.toimage(fac).save(str(uuid.uuid4()) +'.jpg')\n",
    "                fac = np.array(frame)[y:(y+h),x:(x+h)]\n",
    "            cv2.imshow('Video', frame)\n",
    "    if cv2.waitKey(1) & 0xFF == ord('q'):\n",
    "        break\n",
    "    i = i + 1\n",
    "cap.release()\n",
    "cv2.destroyAllWindows()"
   ]
  },
  {
   "cell_type": "code",
   "execution_count": null,
   "metadata": {
    "collapsed": true
   },
   "outputs": [],
   "source": []
  }
 ],
 "metadata": {
  "kernelspec": {
   "display_name": "Python 2",
   "language": "python",
   "name": "python2"
  },
  "language_info": {
   "codemirror_mode": {
    "name": "ipython",
    "version": 2
   },
   "file_extension": ".py",
   "mimetype": "text/x-python",
   "name": "python",
   "nbconvert_exporter": "python",
   "pygments_lexer": "ipython2",
   "version": "2.7.12"
  }
 },
 "nbformat": 4,
 "nbformat_minor": 0
}
