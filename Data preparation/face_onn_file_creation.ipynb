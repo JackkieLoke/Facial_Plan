{
 "cells": [
  {
   "cell_type": "code",
   "execution_count": 1,
   "metadata": {
    "collapsed": false
   },
   "outputs": [
    {
     "data": {
      "text/plain": [
       "'/home/mckc/Downloads/bigdb'"
      ]
     },
     "execution_count": 1,
     "metadata": {},
     "output_type": "execute_result"
    }
   ],
   "source": [
    "import os,sys,re\n",
    "import numpy as np\n",
    "from sklearn.cross_validation import train_test_split\n",
    "path = '/home/mckc/Downloads/bigdb///'\n",
    "os.chdir(path)\n",
    "os.getcwd()"
   ]
  },
  {
   "cell_type": "code",
   "execution_count": 2,
   "metadata": {
    "collapsed": true
   },
   "outputs": [],
   "source": [
    "#directs = os.listdir('K:/COMMON/face onn/')\n",
    "all_images = []\n",
    "subject = []\n",
    "directs = os.listdir(path)\n",
    "for dir in directs:\n",
    "    files = os.listdir(path+dir)\n",
    "    os.chdir(path+dir)\n",
    "    for i in files:\n",
    "        all_images = np.append(all_images,(path+dir+'/'+i))\n",
    "        subject = np.append(subject,dir)"
   ]
  },
  {
   "cell_type": "code",
   "execution_count": 3,
   "metadata": {
    "collapsed": false
   },
   "outputs": [
    {
     "data": {
      "text/plain": [
       "(34898, 2)"
      ]
     },
     "execution_count": 3,
     "metadata": {},
     "output_type": "execute_result"
    }
   ],
   "source": [
    "data = np.array(zip(all_images,subject))\n",
    "data = data.astype(str)\n",
    "data.shape"
   ]
  },
  {
   "cell_type": "code",
   "execution_count": 4,
   "metadata": {
    "collapsed": false
   },
   "outputs": [
    {
     "data": {
      "text/plain": [
       "{'Abhay ': 25,\n",
       " 'Abhinav ': 26,\n",
       " 'Akhilesh Kumar': 36,\n",
       " 'Anand naidu': 24,\n",
       " 'Anirban Das': 18,\n",
       " 'Aparajitha': 4,\n",
       " 'Aparna Ram': 17,\n",
       " 'Arun Dhanapal': 31,\n",
       " 'Ashwin': 14,\n",
       " 'Bhavya Prakash': 33,\n",
       " 'Chandra': 35,\n",
       " 'Deb': 10,\n",
       " 'Deepa': 30,\n",
       " 'Devi': 19,\n",
       " 'Gokul': 21,\n",
       " 'Gopika': 26,\n",
       " 'Jayanthi Ramachandran': 29,\n",
       " 'Kinkar': 62,\n",
       " 'Linson Jinto': 26,\n",
       " 'Mahesh PV': 10,\n",
       " 'Maheshwar Muralidharan': 48,\n",
       " 'Narasimhan Seshadri': 40,\n",
       " 'Naresh Raj': 27,\n",
       " 'Neha': 28,\n",
       " 'Nivetha': 13,\n",
       " 'Omar': 54,\n",
       " 'Pandian': 24,\n",
       " 'Phani': 17,\n",
       " 'Ponraj S': 6,\n",
       " 'Pooja Ann Martin': 16,\n",
       " 'Praba': 36,\n",
       " 'Priya darshini': 36,\n",
       " 'Raashi Chhalani': 28,\n",
       " 'Raghuram R D': 11,\n",
       " 'Raghuvar Choppakatla': 34,\n",
       " 'Rhea': 19,\n",
       " 'Roshni': 9,\n",
       " 'Sankkar Narayan S': 23,\n",
       " 'Security 1': 26,\n",
       " 'Security 2': 12,\n",
       " 'Selva Chellaiah': 25,\n",
       " 'Sharath': 24,\n",
       " 'Shyam Venkatraman': 16,\n",
       " 'Siddharth': 15,\n",
       " 'Sneha Sanjana R': 17,\n",
       " 'Subiksha Natarajan': 296,\n",
       " 'Surekha Nyapati': 36,\n",
       " 'Swathi': 22,\n",
       " 'VISHNU R': 5,\n",
       " 'Varun Vijay': 29,\n",
       " 'Vendor': 6,\n",
       " 'Vigneshwaran': 31,\n",
       " 'Vijay raj': 5,\n",
       " 'admin 1 ': 17,\n",
       " 'anees': 44,\n",
       " 'anirudh patil': 22,\n",
       " 'anju': 11,\n",
       " 'apporva': 29,\n",
       " 'approv': 10,\n",
       " 'ashrav': 20,\n",
       " 'daisy': 6,\n",
       " 'deep': 17,\n",
       " 'dhruva': 22,\n",
       " 'himanshu': 22,\n",
       " 'jamal': 8,\n",
       " 'jayanthi': 29,\n",
       " 'kani': 9,\n",
       " 'karan': 14,\n",
       " 'kartheek': 9,\n",
       " 'keerthana': 10,\n",
       " 'kreeshna': 14,\n",
       " 'naveen': 15,\n",
       " 'pankaj': 18,\n",
       " 'pranesh': 23,\n",
       " 'priya jayanth': 25,\n",
       " 'rohit': 23,\n",
       " 'sai prakash': 21,\n",
       " 'sai shree': 5,\n",
       " 'sri ram': 16,\n",
       " 'srikanth s': 35,\n",
       " 'staff 1': 42,\n",
       " 'staff 2': 36,\n",
       " 'staff 4': 35,\n",
       " 'staff 5': 40,\n",
       " 'staff 6': 21,\n",
       " 'staff 7': 11,\n",
       " 'staff 8': 13,\n",
       " 'swetha': 39,\n",
       " 'unknown 1': 36,\n",
       " 'unknown 10': 8,\n",
       " 'unknown 11': 6,\n",
       " 'unknown 2': 39,\n",
       " 'unknown 5': 84,\n",
       " 'unknown 8': 14,\n",
       " 'vanathi': 27,\n",
       " 'vijay kumar': 34,\n",
       " 'yogesh': 20}"
      ]
     },
     "execution_count": 4,
     "metadata": {},
     "output_type": "execute_result"
    }
   ],
   "source": [
    "unique, counts = np.unique(subject, return_counts=True)\n",
    "dict(zip(unique, counts))"
   ]
  },
  {
   "cell_type": "code",
   "execution_count": 4,
   "metadata": {
    "collapsed": true
   },
   "outputs": [],
   "source": [
    "train , test = train_test_split(data, test_size=0.25, random_state=42,stratify=subject)\n",
    "os.chdir(path)\n",
    "np.savetxt(\"test.csv\", test, delimiter=\",\",header='file,subject',fmt='%s')\n",
    "np.savetxt(\"train.csv\", train, delimiter=\",\",header=\"file,subject\",fmt='%s')"
   ]
  },
  {
   "cell_type": "code",
   "execution_count": null,
   "metadata": {
    "collapsed": true
   },
   "outputs": [],
   "source": []
  }
 ],
 "metadata": {
  "kernelspec": {
   "display_name": "Python 2",
   "language": "python",
   "name": "python2"
  },
  "language_info": {
   "codemirror_mode": {
    "name": "ipython",
    "version": 2
   },
   "file_extension": ".py",
   "mimetype": "text/x-python",
   "name": "python",
   "nbconvert_exporter": "python",
   "pygments_lexer": "ipython2",
   "version": "2.7.12"
  }
 },
 "nbformat": 4,
 "nbformat_minor": 0
}
