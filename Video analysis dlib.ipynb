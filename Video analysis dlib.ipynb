{
 "cells": [
  {
   "cell_type": "code",
   "execution_count": 6,
   "metadata": {
    "collapsed": false
   },
   "outputs": [],
   "source": [
    "import cv2\n",
    "import numpy as np\n",
    "import scipy.misc\n",
    "import os\n",
    "import dlib\n",
    "import time\n",
    "os.chdir(\"/home/mckc/Imagedb/\")\n",
    "import uuid\n",
    "%matplotlib inline\n",
    "\n",
    "\n",
    "video_capture = cv2.VideoCapture(0)\n",
    "predictor_model = \"/home/mckc/Downloads/shape_predictor_68_face_landmarks.dat\"\n",
    "\n",
    "detector = dlib.get_frontal_face_detector()\n",
    "predictor = dlib.shape_predictor(predictor_model)\n",
    "win = dlib.image_window()\n",
    "cap = cv2.VideoCapture('/home/mckc/Downloads/2.mp4')"
   ]
  },
  {
   "cell_type": "code",
   "execution_count": 8,
   "metadata": {
    "collapsed": false
   },
   "outputs": [],
   "source": [
    "i = 0\n",
    "while(cap.grab()):\n",
    "    # Capture frame-by-frame\n",
    "#    time.sleep(1)\n",
    "    ret, frame = cap.read()\n",
    "    i = i + 1 \n",
    "    if i % 9 == 0 :\n",
    "        faces = detector(frame, 1)\n",
    "        win.clear_overlay()\n",
    "        win.set_image(frame)\n",
    "        win.add_overlay(faces)\n",
    "        dlib.hit_enter_to_continue()\n",
    "    \n",
    "    # Draw a rectangle around the faces\n",
    "        if len(faces)>0:    \n",
    "            for a,b in enumerate(faces):\n",
    "                fac = np.array(frame)[b.top():b.bottom(),b.left():b.right(),:]            \n",
    "                scipy.misc.toimage(fac).save(str(uuid.uuid4()) +'.jpg')\n",
    "\n",
    "# When everything is done, release the capture\n",
    "video_capture.release()\n",
    "cv2.destroyAllWindows()"
   ]
  },
  {
   "cell_type": "code",
   "execution_count": null,
   "metadata": {
    "collapsed": true
   },
   "outputs": [],
   "source": []
  }
 ],
 "metadata": {
  "kernelspec": {
   "display_name": "Python 2",
   "language": "python",
   "name": "python2"
  },
  "language_info": {
   "codemirror_mode": {
    "name": "ipython",
    "version": 2
   },
   "file_extension": ".py",
   "mimetype": "text/x-python",
   "name": "python",
   "nbconvert_exporter": "python",
   "pygments_lexer": "ipython2",
   "version": "2.7.12"
  }
 },
 "nbformat": 4,
 "nbformat_minor": 0
}
