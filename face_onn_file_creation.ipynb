{
 "cells": [
  {
   "cell_type": "code",
   "execution_count": 6,
   "metadata": {
    "collapsed": false
   },
   "outputs": [
    {
     "data": {
      "text/plain": [
       "'/home/mckc/cleaned'"
      ]
     },
     "execution_count": 6,
     "metadata": {},
     "output_type": "execute_result"
    }
   ],
   "source": [
    "import os,sys,re\n",
    "import numpy as np\n",
    "from sklearn.cross_validation import train_test_split\n",
    "path = '/home/mckc/cleaned//'\n",
    "os.chdir(path)\n",
    "os.getcwd()"
   ]
  },
  {
   "cell_type": "code",
   "execution_count": 7,
   "metadata": {
    "collapsed": true
   },
   "outputs": [],
   "source": [
    "#directs = os.listdir('K:/COMMON/face onn/')\n",
    "all_images = []\n",
    "subject = []\n",
    "directs = os.listdir(path)\n",
    "for dir in directs:\n",
    "    files = os.listdir(path+dir)\n",
    "    os.chdir(path+dir)\n",
    "    for i in files:\n",
    "        all_images = np.append(all_images,(path+dir+'/'+i))\n",
    "        subject = np.append(subject,dir)"
   ]
  },
  {
   "cell_type": "code",
   "execution_count": 8,
   "metadata": {
    "collapsed": false
   },
   "outputs": [
    {
     "data": {
      "text/plain": [
       "(674, 2)"
      ]
     },
     "execution_count": 8,
     "metadata": {},
     "output_type": "execute_result"
    }
   ],
   "source": [
    "data = np.array(zip(all_images,subject))\n",
    "data = data.astype(str)\n",
    "data.shape"
   ]
  },
  {
   "cell_type": "code",
   "execution_count": 9,
   "metadata": {
    "collapsed": false
   },
   "outputs": [
    {
     "data": {
      "text/plain": [
       "{'Abhinav': 30,\n",
       " 'Anirban Das': 25,\n",
       " 'Aparna Ram': 20,\n",
       " 'Arun Dhanapal': 16,\n",
       " 'Bhavya Prakash': 30,\n",
       " 'Chandra': 30,\n",
       " 'Gokul': 30,\n",
       " 'Kartheek': 26,\n",
       " 'Kinkar': 30,\n",
       " 'MANASA S': 26,\n",
       " 'Maheshwar Muralidharan': 30,\n",
       " 'Nara Simha': 30,\n",
       " 'Naresh Raj': 14,\n",
       " 'Omar': 30,\n",
       " 'Ponraj S': 4,\n",
       " 'Praba': 30,\n",
       " 'Raashi Chhalani': 12,\n",
       " 'Raghuvar Choppakatla': 30,\n",
       " 'SANKARNARAYANAN S': 30,\n",
       " 'Selva Chellaiah': 30,\n",
       " 'Vijay kumar': 30,\n",
       " 'anees': 15,\n",
       " 'anirudh patil': 25,\n",
       " 'gopika': 27,\n",
       " 'naveen': 15,\n",
       " 'pandyan': 14,\n",
       " 'pooja ann martin': 15,\n",
       " 'sai prakash': 30}"
      ]
     },
     "execution_count": 9,
     "metadata": {},
     "output_type": "execute_result"
    }
   ],
   "source": [
    "unique, counts = np.unique(subject, return_counts=True)\n",
    "dict(zip(unique, counts))"
   ]
  },
  {
   "cell_type": "code",
   "execution_count": 10,
   "metadata": {
    "collapsed": true
   },
   "outputs": [],
   "source": [
    "train , test = train_test_split(data, test_size=0.25, random_state=42,stratify=subject)\n",
    "os.chdir(path)\n",
    "np.savetxt(\"test.csv\", test, delimiter=\",\",header='file,subject',fmt='%s')\n",
    "np.savetxt(\"train.csv\", train, delimiter=\",\",header=\"file,subject\",fmt='%s')"
   ]
  },
  {
   "cell_type": "code",
   "execution_count": null,
   "metadata": {
    "collapsed": true
   },
   "outputs": [],
   "source": []
  }
 ],
 "metadata": {
  "kernelspec": {
   "display_name": "Python 2",
   "language": "python",
   "name": "python2"
  },
  "language_info": {
   "codemirror_mode": {
    "name": "ipython",
    "version": 2
   },
   "file_extension": ".py",
   "mimetype": "text/x-python",
   "name": "python",
   "nbconvert_exporter": "python",
   "pygments_lexer": "ipython2",
   "version": "2.7.12"
  }
 },
 "nbformat": 4,
 "nbformat_minor": 0
}
