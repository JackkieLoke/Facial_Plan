{
 "cells": [
  {
   "cell_type": "code",
   "execution_count": 1,
   "metadata": {
    "collapsed": false
   },
   "outputs": [],
   "source": [
    "import os,sys,re\n",
    "import numpy as np\n",
    "from sklearn.cross_validation import train_test_split\n",
    "os.chdir('/home/mckc/image class/')\n",
    "direct = os.getcwd()"
   ]
  },
  {
   "cell_type": "code",
   "execution_count": 2,
   "metadata": {
    "collapsed": false
   },
   "outputs": [],
   "source": [
    "files = os.listdir(os.getcwd())\n",
    "subject = []\n",
    "file_name = []"
   ]
  },
  {
   "cell_type": "code",
   "execution_count": 3,
   "metadata": {
    "collapsed": false
   },
   "outputs": [
    {
     "name": "stdout",
     "output_type": "stream",
     "text": [
      "Mahati_72.jpg\n",
      "Mahati_90.jpg\n",
      "Mahati_63.jpg\n",
      "Mahati_48.jpg\n",
      "Mahati_34.jpg\n",
      "Nivetha_10.jpg\n",
      "Mahati_100.jpg\n",
      "Nivetha_25.jpg\n",
      "Nivetha_11.jpg\n",
      "Nivetha_35.jpg\n",
      "Nivetha_37.jpg\n",
      "Mahati_64.jpg\n",
      "Mahati_38.jpg\n",
      "Nivetha_23.jpg\n",
      "Mahati_23.jpg\n",
      "Mahati_89.jpg\n",
      "Mahati_108.jpg\n",
      "Nivetha_49.jpg\n",
      "Mahati_37.jpg\n",
      "Mahati_22.jpg\n",
      "Nivetha_27.jpg\n",
      "Nivetha_16.jpg\n",
      "Mahati_51.jpg\n",
      "Mahati_95.jpg\n",
      "Mahati_15.jpg\n",
      "Mahati_24.jpg\n",
      "Mahati_10.jpg\n",
      "Mahati_35.jpg\n",
      "Nivetha_33.jpg\n",
      "Mahati_20.jpg\n",
      "Nivetha_20.jpg\n",
      "Mahati_86.jpg\n",
      "Mahati_107.jpg\n",
      "Mahati_0.jpg\n",
      "Nivetha_48.jpg\n",
      "Mahati_30.jpg\n",
      "Mahati_93.jpg\n",
      "Nivetha_43.jpg\n",
      "Mahati_67.jpg\n",
      "Nivetha_2.jpg\n",
      "Mahati_109.jpg\n",
      "Mahati_69.jpg\n",
      "Mahati_81.jpg\n",
      "Nivetha_41.jpg\n",
      "Mahati_54.jpg\n",
      "Mahati_27.jpg\n",
      "Mahati_18.jpg\n",
      "Mahati_16.jpg\n",
      "Mahati_26.jpg\n",
      "Mahati_56.jpg\n",
      "Nivetha_29.jpg\n",
      "Nivetha_18.jpg\n",
      "Mahati_82.jpg\n",
      "Mahati_40.jpg\n",
      "Nivetha_0.jpg\n",
      "Nivetha_17.jpg\n",
      "Nivetha_12.jpg\n",
      "Mahati_6.jpg\n",
      "Mahati_70.jpg\n",
      "Mahati_45.jpg\n",
      "Mahati_55.jpg\n",
      "Nivetha_39.jpg\n",
      "Nivetha_6.jpg\n",
      "Mahati_21.jpg\n",
      "Mahati_46.jpg\n",
      "Mahati_60.jpg\n",
      "Mahati_75.jpg\n",
      "Mahati_102.jpg\n",
      "Nivetha_7.jpg\n",
      "Nivetha_46.jpg\n",
      "Nivetha_24.jpg\n",
      "Mahati_61.jpg\n",
      "Mahati_33.jpg\n",
      "Mahati_17.jpg\n",
      "Nivetha_45.jpg\n",
      "Nivetha_38.jpg\n",
      "Mahati_59.jpg\n",
      "Nivetha_19.jpg\n",
      "Mahati_96.jpg\n",
      "Mahati_47.jpg\n",
      "Mahati_58.jpg\n",
      "Nivetha_36.jpg\n",
      "Mahati_42.jpg\n",
      "Mahati_14.jpg\n",
      "Mahati_3.jpg\n",
      "Mahati_62.jpg\n",
      "Mahati_110.jpg\n",
      "Mahati_80.jpg\n",
      "Mahati_19.jpg\n",
      "Mahati_104.jpg\n",
      "Mahati_78.jpg\n",
      "Mahati_94.jpg\n",
      "Mahati_77.jpg\n",
      "Mahati_32.jpg\n",
      "Mahati_8.jpg\n",
      "Nivetha_3.jpg\n",
      "Mahati_2.jpg\n",
      "Nivetha_47.jpg\n",
      "Mahati_53.jpg\n",
      "Nivetha_8.jpg\n",
      "Mahati_11.jpg\n",
      "Mahati_1.jpg\n",
      "Nivetha_4.jpg\n",
      "Mahati_65.jpg\n",
      "Nivetha_31.jpg\n",
      "Nivetha_28.jpg\n",
      "Mahati_31.jpg\n",
      "Mahati_44.jpg\n",
      "Mahati_28.jpg\n",
      "Mahati_52.jpg\n",
      "Mahati_50.jpg\n",
      "Mahati_74.jpg\n",
      "Mahati_83.jpg\n",
      "Mahati_29.jpg\n",
      "Nivetha_30.jpg\n",
      "Nivetha_40.jpg\n",
      "Mahati_68.jpg\n",
      "Mahati_79.jpg\n",
      "Mahati_5.jpg\n",
      "Mahati_91.jpg\n",
      "Mahati_98.jpg\n",
      "Mahati_57.jpg\n",
      "Nivetha_22.jpg\n",
      "Nivetha_1.jpg\n",
      "Nivetha_32.jpg\n",
      "Mahati_106.jpg\n",
      "Nivetha_9.jpg\n",
      "Nivetha_15.jpg\n",
      "Mahati_73.jpg\n",
      "Nivetha_5.jpg\n",
      "Nivetha_13.jpg\n",
      "Mahati_84.jpg\n",
      "Mahati_87.jpg\n",
      "Mahati_97.jpg\n",
      "Mahati_105.jpg\n",
      "Mahati_66.jpg\n",
      "Mahati_7.jpg\n",
      "Mahati_49.jpg\n",
      "Mahati_36.jpg\n",
      "Mahati_99.jpg\n",
      "Mahati_112.jpg\n",
      "Mahati_25.jpg\n",
      "Nivetha_42.jpg\n",
      "Mahati_103.jpg\n",
      "Nivetha_21.jpg\n",
      "Mahati_41.jpg\n",
      "Mahati_88.jpg\n",
      "Mahati_43.jpg\n",
      "Nivetha_14.jpg\n",
      "Mahati_92.jpg\n",
      "Nivetha_44.jpg\n",
      "Mahati_111.jpg\n",
      "Nivetha_34.jpg\n",
      "Mahati_9.jpg\n"
     ]
    }
   ],
   "source": [
    "for name in files:\n",
    "    file_name = np.append(file_name,direct+'/' + name)\n",
    "    print name\n",
    "    index = name.index('_')\n",
    "    subject = np.append(subject,name[:index])"
   ]
  },
  {
   "cell_type": "code",
   "execution_count": 4,
   "metadata": {
    "collapsed": false
   },
   "outputs": [],
   "source": [
    "data = np.vstack((np.array(file_name), np.array(subject)))\n",
    "data = np.transpose(data)\n",
    "data = data.astype(str)\n",
    "train , test = train_test_split(data, test_size=0.25, random_state=42,stratify=subject)"
   ]
  },
  {
   "cell_type": "code",
   "execution_count": 5,
   "metadata": {
    "collapsed": false
   },
   "outputs": [],
   "source": [
    "test[0,0] = 'File_name'\n",
    "test[0,1] = 'subject'\n",
    "np.savetxt(\"test.csv\", test, delimiter=\",\",fmt='%s')"
   ]
  },
  {
   "cell_type": "code",
   "execution_count": 6,
   "metadata": {
    "collapsed": false
   },
   "outputs": [],
   "source": [
    "train[0,0] = 'File_name'\n",
    "train[0,1] = 'subject'\n",
    "np.savetxt(\"train.csv\", train, delimiter=\",\",fmt='%s')"
   ]
  },
  {
   "cell_type": "code",
   "execution_count": null,
   "metadata": {
    "collapsed": true
   },
   "outputs": [],
   "source": []
  }
 ],
 "metadata": {
  "kernelspec": {
   "display_name": "Python 2",
   "language": "python",
   "name": "python2"
  },
  "language_info": {
   "codemirror_mode": {
    "name": "ipython",
    "version": 2
   },
   "file_extension": ".py",
   "mimetype": "text/x-python",
   "name": "python",
   "nbconvert_exporter": "python",
   "pygments_lexer": "ipython2",
   "version": "2.7.12"
  }
 },
 "nbformat": 4,
 "nbformat_minor": 0
}
