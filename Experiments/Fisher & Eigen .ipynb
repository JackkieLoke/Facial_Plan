{
 "cells": [
  {
   "cell_type": "code",
   "execution_count": 2,
   "metadata": {
    "collapsed": false
   },
   "outputs": [
    {
     "ename": "ImportError",
     "evalue": "No module named cv2",
     "output_type": "error",
     "traceback": [
      "\u001b[1;31m---------------------------------------------------------------------------\u001b[0m",
      "\u001b[1;31mImportError\u001b[0m                               Traceback (most recent call last)",
      "\u001b[1;32m<ipython-input-2-afb127574956>\u001b[0m in \u001b[0;36m<module>\u001b[1;34m()\u001b[0m\n\u001b[1;32m----> 1\u001b[1;33m \u001b[1;32mimport\u001b[0m \u001b[0mcv2\u001b[0m\u001b[1;33m,\u001b[0m \u001b[0mos\u001b[0m\u001b[1;33m\u001b[0m\u001b[0m\n\u001b[0m\u001b[0;32m      2\u001b[0m \u001b[1;32mimport\u001b[0m \u001b[0mnumpy\u001b[0m \u001b[1;32mas\u001b[0m \u001b[0mnp\u001b[0m\u001b[1;33m\u001b[0m\u001b[0m\n\u001b[0;32m      3\u001b[0m \u001b[1;32mfrom\u001b[0m \u001b[0mPIL\u001b[0m \u001b[1;32mimport\u001b[0m \u001b[0mImage\u001b[0m\u001b[1;33m\u001b[0m\u001b[0m\n\u001b[0;32m      4\u001b[0m \u001b[1;33m\u001b[0m\u001b[0m\n\u001b[0;32m      5\u001b[0m \u001b[1;31m# For face detection we will use the Haar Cascade provided by OpenCV.\u001b[0m\u001b[1;33m\u001b[0m\u001b[1;33m\u001b[0m\u001b[0m\n",
      "\u001b[1;31mImportError\u001b[0m: No module named cv2"
     ]
    }
   ],
   "source": [
    "import cv2, os\n",
    "import numpy as np\n",
    "from PIL import Image\n",
    "\n",
    "# For face detection we will use the Haar Cascade provided by OpenCV.\n",
    "cascadePath = \"/home/mckc/Downloads/face_recognizer/haarcascade_frontalface_default.xml\"\n",
    "faceCascade = cv2.CascadeClassifier(cascadePath)\n",
    "\n",
    "# For face recognition we will the the LBPH Face Recognizer \n",
    "recognizer = cv2.createLBPHFaceRecognizer()"
   ]
  },
  {
   "cell_type": "code",
   "execution_count": 3,
   "metadata": {
    "collapsed": false
   },
   "outputs": [
    {
     "name": "stdout",
     "output_type": "stream",
     "text": [
      "12 is Correctly Recognized with confidence 30.7063923459\n",
      "5 is Correctly Recognized with confidence 34.3565508048\n",
      "2 is Correctly Recognized with confidence 29.15139655\n",
      "8 is Correctly Recognized with confidence 99.8276423452\n",
      "4 is Correctly Recognized with confidence 0.0\n",
      "14 is Correctly Recognized with confidence 25.5569113665\n",
      "15 is Correctly Recognized with confidence 25.2105434172\n",
      "13 is Correctly Recognized with confidence 32.6527994538\n",
      "1 is Correctly Recognized with confidence 37.6819645242\n",
      "11 is Correctly Recognized with confidence 39.0980390296\n",
      "6 is Correctly Recognized with confidence 25.8154211953\n",
      "9 is Correctly Recognized with confidence 46.2072675938\n",
      "10 is Correctly Recognized with confidence 19.4849737279\n",
      "7 is Correctly Recognized with confidence 44.3297146637\n",
      "3 is Correctly Recognized with confidence 32.3938790423\n"
     ]
    }
   ],
   "source": [
    "# Path to the Yale Dataset\n",
    "path = '/home/mckc/Downloads/face_recognizer/yalefaces'\n",
    "# Call the get_images_and_labels function and get the face images and the \n",
    "# corresponding labels\n",
    "images, labels = get_images_and_labels(path)\n",
    "cv2.destroyAllWindows()\n",
    "\n",
    "# Perform the tranining\n",
    "recognizer.train(images, np.array(labels))\n",
    "\n",
    "# Append the images with the extension .sad into image_paths\n",
    "image_paths = [os.path.join(path, f) for f in os.listdir(path) if f.endswith('.sad')]\n",
    "for image_path in image_paths:\n",
    "    predict_image_pil = Image.open(image_path).convert('L')\n",
    "    predict_image = np.array(predict_image_pil, 'uint8')\n",
    "    faces = faceCascade.detectMultiScale(predict_image)\n",
    "    for (x, y, w, h) in faces:\n",
    "        nbr_predicted, conf = recognizer.predict(predict_image[y: y + h, x: x + w])\n",
    "        nbr_actual = int(os.path.split(image_path)[1].split(\".\")[0].replace(\"subject\", \"\"))\n",
    "        if nbr_actual == nbr_predicted:\n",
    "            print \"{} is Correctly Recognized with confidence {}\".format(nbr_actual, conf)\n",
    "        else:\n",
    "            print \"{} is Incorrect Recognized as {}\".format(nbr_actual, nbr_predicted)\n",
    "        cv2.imshow(\"Recognizing Face\", predict_image[y: y + h, x: x + w])\n",
    "        cv2.waitKey(1000)"
   ]
  },
  {
   "cell_type": "code",
   "execution_count": null,
   "metadata": {
    "collapsed": true
   },
   "outputs": [],
   "source": []
  }
 ],
 "metadata": {
  "kernelspec": {
   "display_name": "Python 2",
   "language": "python",
   "name": "python2"
  },
  "language_info": {
   "codemirror_mode": {
    "name": "ipython",
    "version": 2
   },
   "file_extension": ".py",
   "mimetype": "text/x-python",
   "name": "python",
   "nbconvert_exporter": "python",
   "pygments_lexer": "ipython2",
   "version": "2.7.12"
  }
 },
 "nbformat": 4,
 "nbformat_minor": 0
}
