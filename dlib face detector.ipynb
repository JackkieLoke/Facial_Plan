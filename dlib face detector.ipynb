{
 "cells": [
  {
   "cell_type": "code",
   "execution_count": 1,
   "metadata": {
    "collapsed": true
   },
   "outputs": [],
   "source": [
    "import sys\n",
    "\n",
    "import cv2\n",
    "import dlib\n",
    "from skimage import io"
   ]
  },
  {
   "cell_type": "code",
   "execution_count": 3,
   "metadata": {
    "collapsed": false
   },
   "outputs": [
    {
     "ename": "IndentationError",
     "evalue": "expected an indented block (<ipython-input-3-69902e638aa1>, line 34)",
     "output_type": "error",
     "traceback": [
      "\u001b[1;36m  File \u001b[1;32m\"<ipython-input-3-69902e638aa1>\"\u001b[1;36m, line \u001b[1;32m34\u001b[0m\n\u001b[1;33m    print( \"process: \" + str( time() - start ) )\u001b[0m\n\u001b[1;37m        ^\u001b[0m\n\u001b[1;31mIndentationError\u001b[0m\u001b[1;31m:\u001b[0m expected an indented block\n"
     ]
    }
   ],
   "source": [
    "detector = dlib.get_frontal_face_detector()\n",
    "win = dlib.image_window()\n",
    "\n",
    "while True:\n",
    "    from cv2 import VideoCapture\n",
    "    from time import time\n",
    "\n",
    "    cam = VideoCapture(0)  #set the port of the camera as before\n",
    "\n",
    "    while True:\n",
    "        start = time()\n",
    "        retval, image = cam.read() #return a True bolean and and the image if all go right\n",
    "\n",
    "        for row in image:\n",
    "            for px in row:\n",
    "                #rgb expected... but the array is bgr?\n",
    "                r = px[2]\n",
    "                px[2] = px[0]\n",
    "                px[0] = r\n",
    "        #import matplotlib.pyplot as plt\n",
    "        #plt.imshow(image)\n",
    "        #plt.show()\n",
    "\n",
    "        print( \"readimage: \" + str( time() - start ) )\n",
    "\n",
    "        start = time()\n",
    "        dets = detector(image, 1)\n",
    "        #print \"your faces: %f\" % len(dets)\n",
    "        for i, d in enumerate( dets ):\n",
    "            #print(\"Detection {}: Left: {} Top: {} Right: {} Bottom: {}\".format(\n",
    "                #i, d.left(), d.top(), d.right(), d.bottom()))\n",
    "            #print(\"from left: {}\".format( ( (d.left() + d.right()) / 2 ) / len(image[0]) ))\n",
    "            #print(\"from top: {}\".format( ( (d.top() + d.bottom()) / 2 ) /len(image)) )\n",
    "        print( \"process: \" + str( time() - start ) )\n",
    "\n",
    "        start = time()\n",
    "        win.clear_overlay()\n",
    "        win.set_image(image)\n",
    "        win.add_overlay(dets)\n",
    "\n",
    "        print( \"show: \" + str( time() - start ) )\n",
    "        #dlib.hit_enter_to_continue()\n",
    "        dlib.hit_enter_to_continue()\n"
   ]
  },
  {
   "cell_type": "code",
   "execution_count": null,
   "metadata": {
    "collapsed": true
   },
   "outputs": [],
   "source": []
  }
 ],
 "metadata": {
  "kernelspec": {
   "display_name": "Python 2",
   "language": "python",
   "name": "python2"
  },
  "language_info": {
   "codemirror_mode": {
    "name": "ipython",
    "version": 2
   },
   "file_extension": ".py",
   "mimetype": "text/x-python",
   "name": "python",
   "nbconvert_exporter": "python",
   "pygments_lexer": "ipython2",
   "version": "2.7.12"
  }
 },
 "nbformat": 4,
 "nbformat_minor": 0
}
