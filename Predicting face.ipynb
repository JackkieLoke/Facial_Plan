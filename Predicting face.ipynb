{
 "cells": [
  {
   "cell_type": "code",
   "execution_count": 1,
   "metadata": {
    "collapsed": false
   },
   "outputs": [],
   "source": [
    "import cv2\n",
    "import numpy as np\n",
    "import scipy.misc\n",
    "import os,numpy as np\n",
    "import time\n",
    "os.chdir(\"/home/mckc/Imagedb/\")\n",
    "import uuid\n",
    "\n",
    "\n",
    "face_cascade = cv2.CascadeClassifier('/home/mckc/Downloads/opencv-2.4.13/data/haarcascades_GPU/haarcascade_frontalface_default.xml')\n",
    "video_capture = cv2.VideoCapture(0)"
   ]
  },
  {
   "cell_type": "code",
   "execution_count": null,
   "metadata": {
    "collapsed": false
   },
   "outputs": [
    {
     "name": "stderr",
     "output_type": "stream",
     "text": [
      "Using gpu device 0: Quadro M2000M (CNMeM is enabled with initial size: 10 MB, cuDNN 5005)\n"
     ]
    }
   ],
   "source": [
    "import cPickle\n",
    "def standard(X):\n",
    "    return (X - X.mean())/X.max()\n",
    "\n",
    "def Pre_Process(face):\n",
    "    from skimage.transform import resize\n",
    "    X = standard(resize(face,(96,96))).reshape(-1,1,96,96)\n",
    "    X_normal = X.reshape(-1,9216)\n",
    "    return X,X_normal\n",
    "\n",
    "# load it again\n",
    "with open('/home/mckc/nolearn_model.pkl', 'rb') as fid:\n",
    "    Net = cPickle.load(fid)\n",
    "    \n",
    "map = np.load('/home/mckc/map.npy')"
   ]
  },
  {
   "cell_type": "code",
   "execution_count": null,
   "metadata": {
    "collapsed": false
   },
   "outputs": [],
   "source": [
    "while True:\n",
    "    # Capture frame-by-frame\n",
    "    #time.sleep(1)\n",
    "    ret, frame = video_capture.read()\n",
    "\n",
    "    gray = cv2.cvtColor(frame, cv2.COLOR_BGR2GRAY)\n",
    "    #gray = cv2.equalizeHist(gray)\n",
    "    faces = face_cascade.detectMultiScale(\n",
    "        gray,\n",
    "        scaleFactor=1.1,\n",
    "        minNeighbors=5,\n",
    "        minSize=(30, 30),\n",
    "       flags=cv2.cv.CV_HAAR_SCALE_IMAGE\n",
    "    )\n",
    "\n",
    "    # Draw a rectangle around the faces\n",
    "    if len(faces)>0:    \n",
    "        for (x, y, w, h) in faces:\n",
    "            fac = np.array(gray)[y:(y+h),x:(x+h)]\n",
    "            X,X_normal = Pre_Process(fac)\n",
    "            Probability = Net.predict_proba(X.astype(np.float32))\n",
    "            prob = np.amax(Probability)\n",
    "            index = np.argmax(Probability)\n",
    "            #print Class\n",
    "            cv2.rectangle(frame, (x, y), (x+w, y+h), (255, 255, 255), 2)\n",
    "            cv2.putText(frame,str(map[index])+' '+str(round(prob*100,2) )+'%',(x,y+h), cv2.FONT_HERSHEY_DUPLEX,1,(255,255,255), 1,2)            \n",
    "            #scipy.misc.toimage(fac).save(str(uuid.uuid4()) +'.jpg')\n",
    "\n",
    "    # Display the resulting frame\n",
    "        cv2.imshow('Video', frame)\n",
    "    if cv2.waitKey(1) & 0xFF == ord('q'):\n",
    "            break\n",
    "        \n",
    "\n",
    "\n",
    "# When everything is done, release the capture\n",
    "video_capture.release()\n",
    "cv2.destroyAllWindows()\n"
   ]
  },
  {
   "cell_type": "code",
   "execution_count": null,
   "metadata": {
    "collapsed": true
   },
   "outputs": [],
   "source": []
  }
 ],
 "metadata": {
  "kernelspec": {
   "display_name": "Python 2",
   "language": "python",
   "name": "python2"
  },
  "language_info": {
   "codemirror_mode": {
    "name": "ipython",
    "version": 2
   },
   "file_extension": ".py",
   "mimetype": "text/x-python",
   "name": "python",
   "nbconvert_exporter": "python",
   "pygments_lexer": "ipython2",
   "version": "2.7.12"
  }
 },
 "nbformat": 4,
 "nbformat_minor": 0
}
