{
 "cells": [
  {
   "cell_type": "code",
   "execution_count": 11,
   "metadata": {
    "collapsed": true
   },
   "outputs": [],
   "source": [
    "import cv2\n",
    "import numpy as np\n",
    "import scipy.misc\n",
    "import os\n",
    "import dlib\n",
    "import time\n",
    "os.chdir(\"/home/mckc/Imagedb/\")\n",
    "import uuid\n",
    "#%matplotlib inline\n",
    "\n",
    "\n",
    "video_capture = cv2.VideoCapture(0)\n",
    "detector = dlib.get_frontal_face_detector()"
   ]
  },
  {
   "cell_type": "code",
   "execution_count": 12,
   "metadata": {
    "collapsed": false
   },
   "outputs": [],
   "source": [
    "while True:\n",
    "    # Capture frame-by-frame\n",
    "#    time.sleep(1)\n",
    "    ret, frame = video_capture.read()\n",
    "    faces = detector(frame, 1)\n",
    "    \n",
    "    # Draw a rectangle around the faces\n",
    "    if len(faces)>0:    \n",
    "        for a,b in enumerate(faces):\n",
    "            fac = np.array(frame)[b.top():b.bottom(),b.left():b.right(),:]    \n",
    "            cv2.rectangle(frame, (b.left(), b.top()), (b.right(), b.bottom()), (0, 255, 0), 2)\n",
    "            #cv2.putText(frame,'omar',(b.left(),b.bottom()), cv2.FONT_HERSHEY_DUPLEX,1,(0,0,255), 2,8)  \n",
    "            scipy.misc.toimage(cv2.cvtColor(fac,cv2.COLOR_RGB2BGR)).save(str(uuid.uuid4()) +'.jpg')\n",
    "    \n",
    "    cv2.imshow('Video', frame)\n",
    "    if cv2.waitKey(1) & 0xFF == ord('q'):\n",
    "            break\n",
    "        \n",
    "\n",
    "\n",
    "# When everything is done, release the capture\n",
    "video_capture.release()\n",
    "cv2.destroyAllWindows()\n"
   ]
  },
  {
   "cell_type": "code",
   "execution_count": null,
   "metadata": {
    "collapsed": true
   },
   "outputs": [],
   "source": []
  }
 ],
 "metadata": {
  "kernelspec": {
   "display_name": "Python 2",
   "language": "python",
   "name": "python2"
  },
  "language_info": {
   "codemirror_mode": {
    "name": "ipython",
    "version": 2
   },
   "file_extension": ".py",
   "mimetype": "text/x-python",
   "name": "python",
   "nbconvert_exporter": "python",
   "pygments_lexer": "ipython2",
   "version": "2.7.12"
  }
 },
 "nbformat": 4,
 "nbformat_minor": 0
}
