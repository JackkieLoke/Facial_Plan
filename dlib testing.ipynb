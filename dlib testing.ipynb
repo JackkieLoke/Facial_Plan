{
 "cells": [
  {
   "cell_type": "code",
   "execution_count": 1,
   "metadata": {
    "collapsed": false
   },
   "outputs": [],
   "source": [
    "import sys\n",
    "import dlib\n",
    "import openface\n",
    "from skimage import io\n",
    "import numpy as np"
   ]
  },
  {
   "cell_type": "code",
   "execution_count": 2,
   "metadata": {
    "collapsed": true
   },
   "outputs": [],
   "source": [
    "#Reading the image data into numpy\n",
    "def rgb2gray(rgb):\n",
    "    return np.dot(rgb[:,:,:], [0.299, 0.587, 0.114])"
   ]
  },
  {
   "cell_type": "code",
   "execution_count": 7,
   "metadata": {
    "collapsed": true
   },
   "outputs": [],
   "source": [
    "def load_data():\n",
    "    import pandas as pd\n",
    "    import numpy as np\n",
    "    from PIL import Image\n",
    "    from termcolor import colored\n",
    "    \n",
    "    train = pd.read_csv('/home/mckc/All Data/train.csv')\n",
    "    test = pd.read_csv('/home/mckc/All Data/test.csv')\n",
    "    print 'the training data shape is ',train.shape\n",
    "    print 'the test data shape is ', test.shape\n",
    "    \n",
    "    X_tr = np.zeros((1,136),dtype=np.uint8)\n",
    "    Y_tr=[]\n",
    "    for i in range(train.shape[0]):\n",
    "        image = np.array(Image.open(train.values[i,0]))\n",
    "        landmarks = get_landmarks(image)\n",
    "        if landmarks is not None:\n",
    "            X_tr =  np.vstack((X_tr,landmarks))\n",
    "            Y_tr = np.append(Y_tr,train.values[i,1])\n",
    "        if i % 50==0:\n",
    "            print colored((float(i)/train.shape[0]*100 ,' Percentage complete'), 'green')\n",
    "    \n",
    "    X_tr = X_tr[1:,:]\n",
    "    X_ts = np.zeros((1,136),dtype=np.uint8)\n",
    "    Y_ts=[]\n",
    "    \n",
    "    for i in range(test.shape[0]):\n",
    "        image = np.array(Image.open(test.values[i,0]))\n",
    "        landmarks = get_landmarks(image)\n",
    "        if landmarks is not None:\n",
    "            X_ts =  np.vstack((X_ts,landmarks))\n",
    "            Y_ts = np.append(Y_ts,test.values[i,1])\n",
    "            \n",
    "        if i % 50==0:\n",
    "            print colored((float(i)/test.shape[0]*100 ,' Percentage complete'), 'green')\n",
    "    X_ts = X_ts[1:,:]\n",
    "    \n",
    "    print 'the training file shape',X_tr.shape,Y_tr.shape\n",
    "    print 'the testing file shape',X_ts.shape,Y_ts.shape\n",
    "    \n",
    "    return X_tr,X_ts,Y_tr,Y_ts    "
   ]
  },
  {
   "cell_type": "code",
   "execution_count": 4,
   "metadata": {
    "collapsed": true
   },
   "outputs": [],
   "source": [
    "def simulate(X,Y):\n",
    "    import scipy as sp\n",
    "    import scipy.ndimage\n",
    "    complete = np.zeros((1,96,96),dtype=np.uint8)\n",
    "    Y_complete = []\n",
    "    for i in range(len(X)):\n",
    "        complete = np.vstack((complete,X[i,:,:].reshape(1,96,96)))\n",
    "        complete = np.vstack((complete,scipy.ndimage.rotate(X[i,:,:], angle = 5,reshape=False,cval=1).reshape(1,96,96)))\n",
    "        complete = np.vstack((complete,scipy.ndimage.rotate(X[i,:,:], angle = 10,reshape=False,cval=1).reshape(1,96,96)))\n",
    "        complete = np.vstack((complete,scipy.ndimage.rotate(X[i,:,:], angle = 15,reshape=False,cval=1).reshape(1,96,96)))\n",
    "        complete = np.vstack((complete,scipy.ndimage.rotate(X[i,:,:], angle = -5,reshape=False,cval=1).reshape(1,96,96)))\n",
    "        complete = np.vstack((complete,scipy.ndimage.rotate(X[i,:,:], angle = -15,reshape=False,cval=1).reshape(1,96,96)))\n",
    "        complete = np.vstack((complete,scipy.ndimage.rotate(X[i,:,:], angle = -10,reshape=False,cval=1).reshape(1,96,96)))\n",
    "        rotated = np.fliplr(X[i,:,:])\n",
    "        complete = np.vstack((complete,scipy.ndimage.rotate(rotated, angle = 5,reshape=False,cval=1).reshape(1,96,96)))\n",
    "        complete = np.vstack((complete,scipy.ndimage.rotate(rotated, angle = 10,reshape=False,cval=1).reshape(1,96,96)))\n",
    "        complete = np.vstack((complete,scipy.ndimage.rotate(rotated, angle = 15,reshape=False,cval=1).reshape(1,96,96)))\n",
    "        complete = np.vstack((complete,scipy.ndimage.rotate(rotated, angle = -5,reshape=False,cval=1).reshape(1,96,96)))\n",
    "        complete = np.vstack((complete,scipy.ndimage.rotate(rotated, angle = -10,reshape=False,cval=1).reshape(1,96,96)))\n",
    "        complete = np.vstack((complete,scipy.ndimage.rotate(rotated, angle = -15,reshape=False,cval=1).reshape(1,96,96)))\n",
    "        complete = np.vstack((complete,rotated.reshape(1,96,96)))\n",
    "        Y_complete = np.append(Y_complete,([Y[i]]*14))\n",
    "        if i % 10==0:\n",
    "            print colored((float(i)/len(X)*100 ,' Percentage complete'),'green')\n",
    "    complete = complete[1:,:,:]\n",
    "    return complete,Y_complete"
   ]
  },
  {
   "cell_type": "code",
   "execution_count": 136,
   "metadata": {
    "collapsed": false
   },
   "outputs": [],
   "source": [
    "def get_landmarks(im):\n",
    "    predictor_model = \"/home/mckc/Downloads/shape_predictor_68_face_landmarks.dat\"\n",
    "\n",
    "    detector = dlib.get_frontal_face_detector()\n",
    "    predictor = dlib.shape_predictor(predictor_model)\n",
    "    rects = detector(im, 1)\n",
    "    \n",
    "    if len(rects) > 1:\n",
    "        print 'TooManyFaces'\n",
    "        return None\n",
    "    if len(rects) == 0:\n",
    "        print 'NoFaces'\n",
    "        return None\n",
    "    coords = np.array([[p.x, p.y] for p in predictor(im, rects[0]).parts()])\n",
    "    centroid = coords.mean(axis=0)\n",
    "    return ((coords - centroid )).reshape(1,136)"
   ]
  },
  {
   "cell_type": "code",
   "execution_count": 137,
   "metadata": {
    "collapsed": false
   },
   "outputs": [
    {
     "name": "stdout",
     "output_type": "stream",
     "text": [
      "the training data shape is  (586, 2)\n",
      "the test data shape is  (195, 2)\n",
      "\u001b[32m(0.0, ' Percentage complete')\u001b[0m\n",
      "NoFaces\n",
      "\u001b[32m(8.532423208191126, ' Percentage complete')\u001b[0m\n",
      "\u001b[32m(17.064846416382252, ' Percentage complete')\u001b[0m\n",
      "\u001b[32m(25.597269624573375, ' Percentage complete')\u001b[0m\n",
      "\u001b[32m(34.129692832764505, ' Percentage complete')\u001b[0m\n",
      "\u001b[32m(42.66211604095563, ' Percentage complete')\u001b[0m\n",
      "\u001b[32m(51.19453924914675, ' Percentage complete')\u001b[0m\n",
      "NoFaces\n",
      "\u001b[32m(59.72696245733788, ' Percentage complete')\u001b[0m\n",
      "\u001b[32m(68.25938566552901, ' Percentage complete')\u001b[0m\n",
      "\u001b[32m(76.79180887372013, ' Percentage complete')\u001b[0m\n",
      "\u001b[32m(85.32423208191126, ' Percentage complete')\u001b[0m\n",
      "\u001b[32m(93.85665529010238, ' Percentage complete')\u001b[0m\n",
      "\u001b[32m(0.0, ' Percentage complete')\u001b[0m\n",
      "\u001b[32m(25.64102564102564, ' Percentage complete')\u001b[0m\n",
      "\u001b[32m(51.28205128205128, ' Percentage complete')\u001b[0m\n",
      "\u001b[32m(76.92307692307693, ' Percentage complete')\u001b[0m\n",
      "the training file shape (584, 136) (584,)\n",
      "the testing file shape (195, 136) (195,)\n"
     ]
    }
   ],
   "source": [
    "X_tr,X_tst,Y_tr,Y_tst = load_data()"
   ]
  },
  {
   "cell_type": "code",
   "execution_count": 138,
   "metadata": {
    "collapsed": true
   },
   "outputs": [],
   "source": [
    "def standard(X):\n",
    "    return (X - X.mean())/X.max()\n",
    "\n",
    "X_tst = standard(X_tst)\n",
    "X_tr = standard(X_tr)"
   ]
  },
  {
   "cell_type": "code",
   "execution_count": 139,
   "metadata": {
    "collapsed": false
   },
   "outputs": [
    {
     "data": {
      "text/plain": [
       "((584, 136), (584,))"
      ]
     },
     "execution_count": 139,
     "metadata": {},
     "output_type": "execute_result"
    }
   ],
   "source": [
    "X_tr.shape,Y_tr.shape"
   ]
  },
  {
   "cell_type": "code",
   "execution_count": 140,
   "metadata": {
    "collapsed": false
   },
   "outputs": [
    {
     "data": {
      "text/plain": [
       "array([-0.71612952, -0.35313884, -0.70228094, -0.15752762, -0.66939056,\n",
       "        0.03115931, -0.62611374,  0.21292195, -0.56206405,  0.38602922,\n",
       "       -0.44954432,  0.52970826, -0.30759635,  0.63703477, -0.13102693,\n",
       "        0.7114709 ,  0.06285322,  0.72185734,  0.25154015,  0.68723588,\n",
       "        0.40560562,  0.59548903,  0.5215875 ,  0.46912072,  0.60121684,\n",
       "        0.31332417,  0.63237615,  0.13675475,  0.64276259, -0.04500789,\n",
       "        0.64622473, -0.23196375,  0.63237615, -0.41718853, -0.63996232,\n",
       "       -0.4829693 , -0.55513976, -0.58164045, -0.41838501, -0.59029581,\n",
       "       -0.28336134, -0.55567435, -0.15179981, -0.5020111 ,  0.08189502,\n",
       "       -0.49681788,  0.20307011, -0.54875006,  0.32943842, -0.59029581,\n",
       "        0.45926888, -0.58856474,  0.54409144, -0.50547324, -0.02370042,\n",
       "       -0.39295352, -0.00812077, -0.27177842,  0.00745889, -0.15579655,\n",
       "        0.02476961, -0.03289038, -0.14487552,  0.0761672 , -0.0635151 ,\n",
       "        0.09347793,  0.02130747,  0.11251973,  0.09401252,  0.08482257,\n",
       "        0.16498651,  0.05366326, -0.50320758, -0.36352528, -0.42011608,\n",
       "       -0.41199532, -0.32317601, -0.40507102, -0.22450486, -0.34448348,\n",
       "       -0.32663815, -0.33409704, -0.42704037, -0.33582811,  0.15806222,\n",
       "       -0.35660099,  0.24461585, -0.41545746,  0.33982486, -0.41891961,\n",
       "        0.42637849, -0.37910493,  0.34848022, -0.35486991,  0.25154015,\n",
       "       -0.35140777, -0.26605061,  0.32544168, -0.16564839,  0.25619877,\n",
       "       -0.05832188,  0.21811517,  0.02650069,  0.23542589,  0.10613003,\n",
       "        0.2094598 ,  0.20826333,  0.23196375,  0.30693447,  0.28389593,\n",
       "        0.22211191,  0.36179421,  0.12863398,  0.40160888,  0.04208034,\n",
       "        0.41372639, -0.04620437,  0.41545746, -0.15526195,  0.39122244,\n",
       "       -0.22104272,  0.32544168, -0.0565908 ,  0.29601344,  0.02996283,\n",
       "        0.29601344,  0.11132325,  0.28216486,  0.26538873,  0.28735808,\n",
       "        0.11824754,  0.28735808,  0.03515605,  0.30120666, -0.04966651,\n",
       "        0.29947559])"
      ]
     },
     "execution_count": 140,
     "metadata": {},
     "output_type": "execute_result"
    }
   ],
   "source": [
    "X_tr[1,:]"
   ]
  },
  {
   "cell_type": "code",
   "execution_count": 141,
   "metadata": {
    "collapsed": true
   },
   "outputs": [],
   "source": [
    "map, Y_number = np.unique(Y_tr, return_inverse=True)\n",
    "Y_test_number = np.unique(Y_tst, return_inverse=True)[1]"
   ]
  },
  {
   "cell_type": "code",
   "execution_count": 142,
   "metadata": {
    "collapsed": false
   },
   "outputs": [
    {
     "name": "stdout",
     "output_type": "stream",
     "text": [
      "Accuracy of the model is  0.887179487179\n"
     ]
    },
    {
     "data": {
      "text/plain": [
       "array([[24,  0,  0,  0,  0,  0,  1],\n",
       "       [ 0, 18,  0,  0,  1,  2,  4],\n",
       "       [ 0,  0, 20,  4,  0,  1,  1],\n",
       "       [ 0,  0,  0, 25,  0,  0,  0],\n",
       "       [ 0,  0,  0,  0, 26,  0,  1],\n",
       "       [ 0,  0,  1,  0,  0, 20,  4],\n",
       "       [ 0,  0,  1,  0,  1,  0, 40]])"
      ]
     },
     "execution_count": 142,
     "metadata": {},
     "output_type": "execute_result"
    }
   ],
   "source": [
    "from sklearn.linear_model import LogisticRegression\n",
    "from sklearn.metrics import confusion_matrix\n",
    "from sklearn.metrics import accuracy_score\n",
    "\n",
    "clf = LogisticRegression(verbose=0,n_jobs=-1,multi_class='multinomial',solver='lbfgs',max_iter=500,warm_start=True)\n",
    "clf.fit(X_tr,Y_number)\n",
    "Y_logictic= clf.predict(X_tst)\n",
    "Y_log_vales = map[Y_logictic]\n",
    "\n",
    "print 'Accuracy of the model is ',accuracy_score(Y_tst,Y_log_vales)\n",
    "confusion_matrix(Y_tst,Y_log_vales)"
   ]
  },
  {
   "cell_type": "code",
   "execution_count": 145,
   "metadata": {
    "collapsed": false
   },
   "outputs": [
    {
     "name": "stdout",
     "output_type": "stream",
     "text": [
      "Accuracy of the model is  0.938461538462\n"
     ]
    },
    {
     "data": {
      "text/plain": [
       "array([[25,  0,  0,  0,  0,  0,  0],\n",
       "       [ 0, 23,  0,  0,  1,  1,  0],\n",
       "       [ 0,  0, 24,  2,  0,  0,  0],\n",
       "       [ 0,  0,  0, 25,  0,  0,  0],\n",
       "       [ 0,  0,  0,  0, 24,  0,  3],\n",
       "       [ 0,  0,  0,  0,  0, 22,  3],\n",
       "       [ 0,  0,  1,  0,  1,  0, 40]])"
      ]
     },
     "execution_count": 145,
     "metadata": {},
     "output_type": "execute_result"
    }
   ],
   "source": [
    "from sklearn.ensemble import RandomForestClassifier\n",
    "from sklearn.metrics import confusion_matrix\n",
    "from sklearn.metrics import accuracy_score\n",
    "\n",
    "recognizer = RandomForestClassifier(500,verbose=0,oob_score=True,n_jobs=-1,max_features=20)\n",
    "recognizer.fit(X_tr,Y_number)\n",
    "Y_rf= recognizer.predict(X_tst)\n",
    "Y_rf_vales = map[Y_rf]\n",
    "\n",
    "print 'Accuracy of the model is ',accuracy_score(Y_tst,Y_rf_vales)\n",
    "confusion_matrix(Y_tst,Y_rf_vales)"
   ]
  },
  {
   "cell_type": "code",
   "execution_count": 143,
   "metadata": {
    "collapsed": false
   },
   "outputs": [
    {
     "name": "stdout",
     "output_type": "stream",
     "text": [
      "Train on 467 samples, validate on 117 samples\n",
      "Epoch 1/100\n",
      "467/467 [==============================] - 1s - loss: 1.9404 - acc: 0.2227 - val_loss: 1.6014 - val_acc: 0.4701\n",
      "Epoch 2/100\n",
      "467/467 [==============================] - 1s - loss: 1.6298 - acc: 0.3640 - val_loss: 1.4222 - val_acc: 0.3846\n",
      "Epoch 3/100\n",
      "467/467 [==============================] - 1s - loss: 1.4212 - acc: 0.4604 - val_loss: 1.2187 - val_acc: 0.4188\n",
      "Epoch 4/100\n",
      "467/467 [==============================] - 1s - loss: 1.3118 - acc: 0.5139 - val_loss: 1.1476 - val_acc: 0.4701\n",
      "Epoch 5/100\n",
      "467/467 [==============================] - 1s - loss: 1.2386 - acc: 0.5418 - val_loss: 1.1854 - val_acc: 0.5043\n",
      "Epoch 6/100\n",
      "467/467 [==============================] - 1s - loss: 1.1668 - acc: 0.5760 - val_loss: 1.1895 - val_acc: 0.4701\n",
      "Epoch 7/100\n",
      "467/467 [==============================] - 1s - loss: 1.1156 - acc: 0.5910 - val_loss: 0.8784 - val_acc: 0.7350\n",
      "Epoch 8/100\n",
      "467/467 [==============================] - 1s - loss: 1.1053 - acc: 0.5996 - val_loss: 0.9566 - val_acc: 0.6752\n",
      "Epoch 9/100\n",
      "467/467 [==============================] - 1s - loss: 1.0553 - acc: 0.6274 - val_loss: 0.7811 - val_acc: 0.7265\n",
      "Epoch 10/100\n",
      "467/467 [==============================] - 1s - loss: 1.0380 - acc: 0.6360 - val_loss: 0.9381 - val_acc: 0.5897\n",
      "Epoch 11/100\n",
      "467/467 [==============================] - 1s - loss: 0.9800 - acc: 0.6467 - val_loss: 0.8343 - val_acc: 0.6752\n",
      "Epoch 12/100\n",
      "467/467 [==============================] - 1s - loss: 0.9505 - acc: 0.6660 - val_loss: 0.9179 - val_acc: 0.6239\n",
      "Epoch 13/100\n",
      "467/467 [==============================] - 1s - loss: 0.9172 - acc: 0.7024 - val_loss: 0.8093 - val_acc: 0.7094\n",
      "Epoch 14/100\n",
      "467/467 [==============================] - 1s - loss: 0.9045 - acc: 0.6981 - val_loss: 0.9738 - val_acc: 0.6239\n",
      "Epoch 15/100\n",
      "467/467 [==============================] - 1s - loss: 0.8554 - acc: 0.7024 - val_loss: 0.6021 - val_acc: 0.7949\n",
      "Epoch 16/100\n",
      "467/467 [==============================] - 1s - loss: 0.8487 - acc: 0.6938 - val_loss: 0.6832 - val_acc: 0.7094\n",
      "Epoch 17/100\n",
      "467/467 [==============================] - 1s - loss: 0.8121 - acc: 0.6959 - val_loss: 0.7644 - val_acc: 0.7009\n",
      "Epoch 18/100\n",
      "467/467 [==============================] - 1s - loss: 0.8227 - acc: 0.6981 - val_loss: 0.6293 - val_acc: 0.8120\n",
      "Epoch 19/100\n",
      "467/467 [==============================] - 1s - loss: 0.7550 - acc: 0.7281 - val_loss: 0.5292 - val_acc: 0.8718\n",
      "Epoch 20/100\n",
      "467/467 [==============================] - 1s - loss: 0.7562 - acc: 0.7366 - val_loss: 0.8494 - val_acc: 0.6496\n",
      "Epoch 21/100\n",
      "467/467 [==============================] - 1s - loss: 0.7422 - acc: 0.7366 - val_loss: 0.4771 - val_acc: 0.8632\n",
      "Epoch 22/100\n",
      "467/467 [==============================] - 1s - loss: 0.7110 - acc: 0.7623 - val_loss: 0.7017 - val_acc: 0.7265\n",
      "Epoch 23/100\n",
      "467/467 [==============================] - 1s - loss: 0.6847 - acc: 0.7709 - val_loss: 0.7409 - val_acc: 0.7949\n",
      "Epoch 24/100\n",
      "467/467 [==============================] - 1s - loss: 0.6717 - acc: 0.7602 - val_loss: 0.4758 - val_acc: 0.8462\n",
      "Epoch 25/100\n",
      "467/467 [==============================] - 1s - loss: 0.6329 - acc: 0.7816 - val_loss: 0.6224 - val_acc: 0.8034\n",
      "Epoch 26/100\n",
      "467/467 [==============================] - 1s - loss: 0.6254 - acc: 0.7709 - val_loss: 0.3746 - val_acc: 0.8718\n",
      "Epoch 27/100\n",
      "467/467 [==============================] - 1s - loss: 0.6101 - acc: 0.7923 - val_loss: 0.3932 - val_acc: 0.8974\n",
      "Epoch 28/100\n",
      "467/467 [==============================] - 1s - loss: 0.5728 - acc: 0.8073 - val_loss: 0.8563 - val_acc: 0.7009\n",
      "Epoch 29/100\n",
      "467/467 [==============================] - 1s - loss: 0.5940 - acc: 0.7923 - val_loss: 0.3911 - val_acc: 0.9060\n",
      "Epoch 30/100\n",
      "467/467 [==============================] - 1s - loss: 0.5839 - acc: 0.8030 - val_loss: 0.6296 - val_acc: 0.7692\n",
      "Epoch 31/100\n",
      "467/467 [==============================] - 1s - loss: 0.5404 - acc: 0.7880 - val_loss: 0.3828 - val_acc: 0.8889\n",
      "Epoch 32/100\n",
      "467/467 [==============================] - 1s - loss: 0.5395 - acc: 0.8158 - val_loss: 0.4417 - val_acc: 0.8889\n",
      "Epoch 33/100\n",
      "467/467 [==============================] - 1s - loss: 0.5126 - acc: 0.8201 - val_loss: 0.3552 - val_acc: 0.8718\n",
      "Epoch 34/100\n",
      "467/467 [==============================] - 1s - loss: 0.5131 - acc: 0.8266 - val_loss: 0.4491 - val_acc: 0.8718\n",
      "Epoch 35/100\n",
      "467/467 [==============================] - 1s - loss: 0.5008 - acc: 0.8308 - val_loss: 0.3436 - val_acc: 0.9316\n",
      "Epoch 36/100\n",
      "467/467 [==============================] - 1s - loss: 0.5114 - acc: 0.8522 - val_loss: 0.5877 - val_acc: 0.7778\n",
      "Epoch 37/100\n",
      "467/467 [==============================] - 1s - loss: 0.4822 - acc: 0.8458 - val_loss: 0.5867 - val_acc: 0.8803\n",
      "Epoch 38/100\n",
      "467/467 [==============================] - 1s - loss: 0.4882 - acc: 0.8458 - val_loss: 0.3629 - val_acc: 0.9060\n",
      "Epoch 39/100\n",
      "467/467 [==============================] - 1s - loss: 0.4864 - acc: 0.8373 - val_loss: 0.3999 - val_acc: 0.9231\n",
      "Epoch 40/100\n",
      "467/467 [==============================] - 1s - loss: 0.5118 - acc: 0.8330 - val_loss: 0.2757 - val_acc: 0.9060\n",
      "Epoch 41/100\n",
      "467/467 [==============================] - 1s - loss: 0.4703 - acc: 0.8351 - val_loss: 0.4686 - val_acc: 0.8462\n",
      "Epoch 42/100\n",
      "467/467 [==============================] - 1s - loss: 0.4608 - acc: 0.8415 - val_loss: 0.2993 - val_acc: 0.9060\n",
      "Epoch 43/100\n",
      "467/467 [==============================] - 1s - loss: 0.4624 - acc: 0.8437 - val_loss: 0.2572 - val_acc: 0.8974\n",
      "Epoch 44/100\n",
      "467/467 [==============================] - 1s - loss: 0.4488 - acc: 0.8587 - val_loss: 0.4998 - val_acc: 0.8034\n",
      "Epoch 45/100\n",
      "467/467 [==============================] - 1s - loss: 0.4426 - acc: 0.8608 - val_loss: 0.3136 - val_acc: 0.9145\n",
      "Epoch 46/100\n",
      "467/467 [==============================] - 1s - loss: 0.4229 - acc: 0.8565 - val_loss: 0.2760 - val_acc: 0.9316\n",
      "Epoch 47/100\n",
      "467/467 [==============================] - 1s - loss: 0.4201 - acc: 0.8480 - val_loss: 0.4551 - val_acc: 0.8547\n",
      "Epoch 48/100\n",
      "467/467 [==============================] - 1s - loss: 0.3883 - acc: 0.8651 - val_loss: 0.2108 - val_acc: 0.9402\n",
      "Epoch 49/100\n",
      "467/467 [==============================] - 1s - loss: 0.4530 - acc: 0.8522 - val_loss: 0.2512 - val_acc: 0.9145\n",
      "Epoch 50/100\n",
      "467/467 [==============================] - 1s - loss: 0.4248 - acc: 0.8565 - val_loss: 0.2623 - val_acc: 0.9060\n",
      "Epoch 51/100\n",
      "467/467 [==============================] - 1s - loss: 0.4161 - acc: 0.8630 - val_loss: 0.2881 - val_acc: 0.9060\n",
      "Epoch 52/100\n",
      "467/467 [==============================] - 1s - loss: 0.3993 - acc: 0.8630 - val_loss: 0.3727 - val_acc: 0.9316\n",
      "Epoch 53/100\n",
      "467/467 [==============================] - 1s - loss: 0.4268 - acc: 0.8801 - val_loss: 0.3975 - val_acc: 0.9060\n",
      "Epoch 54/100\n",
      "467/467 [==============================] - 1s - loss: 0.4156 - acc: 0.8608 - val_loss: 0.3672 - val_acc: 0.9145\n",
      "Epoch 55/100\n",
      "467/467 [==============================] - 1s - loss: 0.3865 - acc: 0.8672 - val_loss: 0.4980 - val_acc: 0.7863\n",
      "Epoch 56/100\n",
      "467/467 [==============================] - 1s - loss: 0.3605 - acc: 0.8929 - val_loss: 1.0063 - val_acc: 0.6581\n",
      "Epoch 57/100\n",
      "467/467 [==============================] - 1s - loss: 0.3798 - acc: 0.8779 - val_loss: 0.3551 - val_acc: 0.9402\n",
      "Epoch 58/100\n",
      "467/467 [==============================] - 1s - loss: 0.3862 - acc: 0.8887 - val_loss: 0.3100 - val_acc: 0.9145\n",
      "Epoch 59/100\n",
      "467/467 [==============================] - 1s - loss: 0.3908 - acc: 0.8758 - val_loss: 0.2382 - val_acc: 0.9231\n",
      " 32/195 [===>..........................] - ETA: 0s/n Accuracy of the model is  0.938461538462\n"
     ]
    },
    {
     "data": {
      "text/plain": [
       "array([[25,  0,  0,  0,  0,  0,  0],\n",
       "       [ 0, 20,  0,  0,  1,  3,  1],\n",
       "       [ 1,  0, 23,  0,  0,  2,  0],\n",
       "       [ 0,  0,  0, 25,  0,  0,  0],\n",
       "       [ 0,  0,  0,  0, 27,  0,  0],\n",
       "       [ 0,  0,  0,  0,  0, 25,  0],\n",
       "       [ 0,  0,  1,  0,  3,  0, 38]])"
      ]
     },
     "execution_count": 143,
     "metadata": {},
     "output_type": "execute_result"
    }
   ],
   "source": [
    "from keras.models import Sequential\n",
    "from keras.layers import Dense, Activation,LSTM\n",
    "from keras import backend as K\n",
    "from keras.optimizers import Adam,SGD\n",
    "from keras.utils import np_utils\n",
    "from keras.callbacks import EarlyStopping\n",
    "early_stopping = EarlyStopping(monitor='val_loss', patience=10)\n",
    "from keras.layers import Merge\n",
    "\n",
    "left_branch = Sequential()\n",
    "left_branch.add(Dense(1000, input_dim=136,activation='relu'))\n",
    "\n",
    "right_branch = Sequential()\n",
    "right_branch.add(Dense(50, input_dim=136,activation='sigmoid'))\n",
    "\n",
    "merged = Merge([left_branch, right_branch], mode='concat')\n",
    "\n",
    "final_model = Sequential()\n",
    "final_model.add(merged)\n",
    "final_model.add(Dense(7,activation='softmax'))\n",
    "\n",
    "final_model.compile(optimizer='rmsprop', loss='categorical_crossentropy', metrics=['accuracy'],lr=0.0001)\n",
    "final_model.fit([X_tr,X_tr], Y_Keras,nb_epoch=100, batch_size=1,verbose=1,\n",
    "          validation_split=0.2, callbacks=[early_stopping])\n",
    "y_keras = map[final_model.predict_classes([X_tst,X_tst])]\n",
    "\n",
    "print '/n Accuracy of the model is ',accuracy_score(Y_tst,y_keras)\n",
    "confusion_matrix(Y_tst,y_keras)"
   ]
  },
  {
   "cell_type": "code",
   "execution_count": 116,
   "metadata": {
    "collapsed": false
   },
   "outputs": [
    {
     "name": "stdout",
     "output_type": "stream",
     "text": [
      "Train on 467 samples, validate on 117 samples\n",
      "Epoch 1/100\n",
      "467/467 [==============================] - 5s - loss: 1.8632 - acc: 0.2698 - val_loss: 2.1192 - val_acc: 0.1282\n",
      "Epoch 2/100\n",
      "467/467 [==============================] - 5s - loss: 1.5615 - acc: 0.3683 - val_loss: 1.2656 - val_acc: 0.5043\n",
      "Epoch 3/100\n",
      "467/467 [==============================] - 4s - loss: 1.4058 - acc: 0.4433 - val_loss: 1.0340 - val_acc: 0.6239\n",
      "Epoch 4/100\n",
      "467/467 [==============================] - 5s - loss: 1.3048 - acc: 0.4818 - val_loss: 1.3190 - val_acc: 0.3675\n",
      "Epoch 5/100\n",
      "467/467 [==============================] - 5s - loss: 1.2756 - acc: 0.4946 - val_loss: 0.9859 - val_acc: 0.6154\n",
      "Epoch 6/100\n",
      "467/467 [==============================] - 5s - loss: 1.2067 - acc: 0.5075 - val_loss: 1.1030 - val_acc: 0.4701\n",
      "Epoch 7/100\n",
      "467/467 [==============================] - 5s - loss: 1.1470 - acc: 0.5439 - val_loss: 0.9779 - val_acc: 0.7009\n",
      "Epoch 8/100\n",
      "467/467 [==============================] - 5s - loss: 1.0658 - acc: 0.6039 - val_loss: 0.8841 - val_acc: 0.6239\n",
      "Epoch 9/100\n",
      "467/467 [==============================] - 6s - loss: 1.0813 - acc: 0.5996 - val_loss: 0.9401 - val_acc: 0.5983\n",
      "Epoch 10/100\n",
      "467/467 [==============================] - 5s - loss: 1.0155 - acc: 0.6188 - val_loss: 0.9027 - val_acc: 0.7009\n",
      "Epoch 11/100\n",
      "467/467 [==============================] - 5s - loss: 0.9529 - acc: 0.6510 - val_loss: 0.7454 - val_acc: 0.7350\n",
      "Epoch 12/100\n",
      "467/467 [==============================] - 6s - loss: 0.9472 - acc: 0.6360 - val_loss: 0.8493 - val_acc: 0.7179\n",
      "Epoch 13/100\n",
      "467/467 [==============================] - 6s - loss: 0.8559 - acc: 0.6552 - val_loss: 0.6079 - val_acc: 0.7009\n",
      "Epoch 14/100\n",
      "467/467 [==============================] - 6s - loss: 0.8981 - acc: 0.6424 - val_loss: 1.0489 - val_acc: 0.5043\n",
      "Epoch 15/100\n",
      "467/467 [==============================] - 6s - loss: 0.8707 - acc: 0.6617 - val_loss: 1.4144 - val_acc: 0.5470\n",
      "Epoch 16/100\n",
      "467/467 [==============================] - 6s - loss: 0.8500 - acc: 0.6767 - val_loss: 0.9326 - val_acc: 0.6068\n",
      "Epoch 17/100\n",
      "467/467 [==============================] - 6s - loss: 0.8555 - acc: 0.6852 - val_loss: 0.6388 - val_acc: 0.8034\n",
      "Epoch 18/100\n",
      "467/467 [==============================] - 6s - loss: 0.8154 - acc: 0.6938 - val_loss: 0.7147 - val_acc: 0.7607\n",
      "Epoch 19/100\n",
      "467/467 [==============================] - 6s - loss: 0.7852 - acc: 0.7302 - val_loss: 0.9067 - val_acc: 0.6239\n",
      "Epoch 20/100\n",
      "467/467 [==============================] - 6s - loss: 0.7687 - acc: 0.7045 - val_loss: 0.4466 - val_acc: 0.8718\n",
      "Epoch 21/100\n",
      "467/467 [==============================] - 6s - loss: 0.6945 - acc: 0.7409 - val_loss: 0.6543 - val_acc: 0.7350\n",
      "Epoch 22/100\n",
      "467/467 [==============================] - 6s - loss: 0.6873 - acc: 0.7580 - val_loss: 0.9189 - val_acc: 0.7094\n",
      "Epoch 23/100\n",
      "467/467 [==============================] - 6s - loss: 0.7138 - acc: 0.7281 - val_loss: 0.4408 - val_acc: 0.8291\n",
      "Epoch 24/100\n",
      "467/467 [==============================] - 6s - loss: 0.7062 - acc: 0.7452 - val_loss: 0.8008 - val_acc: 0.6752\n",
      "Epoch 25/100\n",
      "467/467 [==============================] - 6s - loss: 0.7104 - acc: 0.7259 - val_loss: 1.9008 - val_acc: 0.4274\n",
      "Epoch 26/100\n",
      "467/467 [==============================] - 6s - loss: 0.6560 - acc: 0.7388 - val_loss: 0.8609 - val_acc: 0.6496\n",
      "Epoch 27/100\n",
      "467/467 [==============================] - 5s - loss: 0.7054 - acc: 0.7388 - val_loss: 0.4394 - val_acc: 0.8718\n",
      "Epoch 28/100\n",
      "467/467 [==============================] - 6s - loss: 0.6254 - acc: 0.7709 - val_loss: 0.4460 - val_acc: 0.8547\n",
      "Epoch 29/100\n",
      "467/467 [==============================] - 6s - loss: 0.6545 - acc: 0.7559 - val_loss: 0.8739 - val_acc: 0.6068\n",
      "Epoch 30/100\n",
      "467/467 [==============================] - 6s - loss: 0.6410 - acc: 0.7495 - val_loss: 1.3339 - val_acc: 0.5812\n",
      "Epoch 31/100\n",
      "467/467 [==============================] - 6s - loss: 0.6742 - acc: 0.7794 - val_loss: 0.5435 - val_acc: 0.7949\n",
      "Epoch 32/100\n",
      "467/467 [==============================] - 6s - loss: 0.6540 - acc: 0.7880 - val_loss: 1.0086 - val_acc: 0.6496\n",
      "Epoch 33/100\n",
      "467/467 [==============================] - 6s - loss: 0.5907 - acc: 0.7966 - val_loss: 0.6121 - val_acc: 0.7607\n",
      "Epoch 34/100\n",
      "467/467 [==============================] - 6s - loss: 0.6572 - acc: 0.7901 - val_loss: 1.1642 - val_acc: 0.6154\n",
      "Epoch 35/100\n",
      "467/467 [==============================] - 6s - loss: 0.6361 - acc: 0.8009 - val_loss: 0.2513 - val_acc: 0.9402\n",
      "Epoch 36/100\n",
      "467/467 [==============================] - 6s - loss: 0.6261 - acc: 0.7987 - val_loss: 1.1552 - val_acc: 0.5897\n",
      "Epoch 37/100\n",
      "467/467 [==============================] - 6s - loss: 0.5721 - acc: 0.7901 - val_loss: 0.7357 - val_acc: 0.7521\n",
      "Epoch 38/100\n",
      "467/467 [==============================] - 6s - loss: 0.5399 - acc: 0.7987 - val_loss: 0.5377 - val_acc: 0.8034\n",
      "Epoch 39/100\n",
      "467/467 [==============================] - 6s - loss: 0.5488 - acc: 0.8137 - val_loss: 0.3162 - val_acc: 0.8632\n",
      "Epoch 40/100\n",
      "467/467 [==============================] - 6s - loss: 0.5526 - acc: 0.8073 - val_loss: 0.5885 - val_acc: 0.7607\n",
      "Epoch 41/100\n",
      "467/467 [==============================] - 6s - loss: 0.5619 - acc: 0.8223 - val_loss: 2.1444 - val_acc: 0.4444\n",
      "Epoch 42/100\n",
      "467/467 [==============================] - 6s - loss: 0.5793 - acc: 0.8094 - val_loss: 0.6088 - val_acc: 0.7521\n",
      "Epoch 43/100\n",
      "467/467 [==============================] - 6s - loss: 0.6110 - acc: 0.8094 - val_loss: 0.7048 - val_acc: 0.7179\n",
      "Epoch 44/100\n",
      "467/467 [==============================] - 6s - loss: 0.5295 - acc: 0.8244 - val_loss: 0.4704 - val_acc: 0.8889\n",
      "Epoch 45/100\n",
      "467/467 [==============================] - 6s - loss: 0.5877 - acc: 0.8051 - val_loss: 0.3152 - val_acc: 0.9402\n",
      "Epoch 46/100\n",
      "467/467 [==============================] - 6s - loss: 0.5609 - acc: 0.8137 - val_loss: 0.5406 - val_acc: 0.8547\n",
      "192/195 [============================>.] - ETA: 0sAccuracy of the model is  0.897435897436\n"
     ]
    },
    {
     "data": {
      "text/plain": [
       "array([[19,  0,  0,  5,  1,  0,  0],\n",
       "       [ 0, 20,  0,  0,  0,  4,  1],\n",
       "       [ 0,  0, 23,  2,  1,  0,  0],\n",
       "       [ 0,  0,  0, 24,  0,  0,  1],\n",
       "       [ 0,  0,  0,  0, 27,  0,  0],\n",
       "       [ 0,  1,  0,  0,  0, 23,  1],\n",
       "       [ 0,  1,  1,  0,  1,  0, 39]])"
      ]
     },
     "execution_count": 116,
     "metadata": {},
     "output_type": "execute_result"
    }
   ],
   "source": [
    "from keras.models import Sequential\n",
    "from keras.layers import Dense, Activation,LSTM\n",
    "from keras import backend as K\n",
    "from keras.optimizers import Adam,SGD\n",
    "from keras.utils import np_utils\n",
    "from keras.callbacks import EarlyStopping\n",
    "early_stopping = EarlyStopping(monitor='val_loss', patience=10)\n",
    "\n",
    "\n",
    "Y_Keras = np_utils.to_categorical(Y_number, 7)\n",
    "# Create first network with Keras\n",
    "from keras.models import Sequential\n",
    "from keras.layers import Dense, Activation,Dropout\n",
    "model = Sequential()\n",
    "#model.add(LSTM(1000, input_dim=136,activation='relu'))\n",
    "model.add(Dense(1000, input_dim=136,activation='relu'))\n",
    "model.add(Dropout(0.2))\n",
    "model.add(Dense(5000,activation='relu'))\n",
    "#model.add(Dense(1000,activation='relu'))\n",
    "model.add(Dense(7,activation='softmax'))\n",
    "sgd = SGD(lr=0.001, decay=1e-6, momentum=0.9, nesterov=True)\n",
    "\n",
    "# Compile model\n",
    "model.compile(loss='categorical_crossentropy', optimizer='rmsprop', metrics=['accuracy'])\n",
    "\n",
    "import time\n",
    "model.fit(X_tr, Y_Keras, nb_epoch=100, batch_size=5,verbose=1,\n",
    "          validation_split=0.2, callbacks=[early_stopping])\n",
    "\n",
    "y_keras = map[model.predict_classes(X_tst)]\n",
    "\n",
    "print 'Accuracy of the model is ',accuracy_score(Y_tst,y_keras)\n",
    "confusion_matrix(Y_tst,y_keras)"
   ]
  },
  {
   "cell_type": "code",
   "execution_count": null,
   "metadata": {
    "collapsed": true
   },
   "outputs": [],
   "source": [
    "from keras.models import Sequential\n",
    "from keras.layers.core import Flatten, Dense, Dropout\n",
    "from keras.layers.convolutional import Convolution2D, MaxPooling2D, ZeroPadding2D\n",
    "from keras.optimizers import SGD\n",
    "\n",
    "def VGG_16(weights_path=None):\n",
    "    model = Sequential()\n",
    "    model.add(ZeroPadding2D((1,1),input_shape=(3,224,224)))\n",
    "    model.add(Convolution2D(64, 3, 3, activation='relu'))\n",
    "    model.add(ZeroPadding2D((1,1)))\n",
    "    model.add(Convolution2D(64, 3, 3, activation='relu'))\n",
    "    model.add(MaxPooling2D((2,2), strides=(2,2)))\n",
    "\n",
    "    model.add(ZeroPadding2D((1,1)))\n",
    "    model.add(Convolution2D(128, 3, 3, activation='relu'))\n",
    "    model.add(ZeroPadding2D((1,1)))\n",
    "    model.add(Convolution2D(128, 3, 3, activation='relu'))\n",
    "    model.add(MaxPooling2D((2,2), strides=(2,2)))\n",
    "\n",
    "    model.add(ZeroPadding2D((1,1)))\n",
    "    model.add(Convolution2D(256, 3, 3, activation='relu'))\n",
    "    model.add(ZeroPadding2D((1,1)))\n",
    "    model.add(Convolution2D(256, 3, 3, activation='relu'))\n",
    "    model.add(ZeroPadding2D((1,1)))\n",
    "    model.add(Convolution2D(256, 3, 3, activation='relu'))\n",
    "    model.add(MaxPooling2D((2,2), strides=(2,2)))\n",
    "\n",
    "    model.add(ZeroPadding2D((1,1)))\n",
    "    model.add(Convolution2D(512, 3, 3, activation='relu'))\n",
    "    model.add(ZeroPadding2D((1,1)))\n",
    "    model.add(Convolution2D(512, 3, 3, activation='relu'))\n",
    "    model.add(ZeroPadding2D((1,1)))\n",
    "    model.add(Convolution2D(512, 3, 3, activation='relu'))\n",
    "    model.add(MaxPooling2D((2,2), strides=(2,2)))\n",
    "\n",
    "    model.add(ZeroPadding2D((1,1)))\n",
    "    model.add(Convolution2D(512, 3, 3, activation='relu'))\n",
    "    model.add(ZeroPadding2D((1,1)))\n",
    "    model.add(Convolution2D(512, 3, 3, activation='relu'))\n",
    "    model.add(ZeroPadding2D((1,1)))\n",
    "    model.add(Convolution2D(512, 3, 3, activation='relu'))\n",
    "    model.add(MaxPooling2D((2,2), strides=(2,2)))\n",
    "\n",
    "    model.add(Flatten())\n",
    "    model.add(Dense(4096, activation='relu'))\n",
    "    model.add(Dropout(0.5))\n",
    "    model.add(Dense(4096, activation='relu'))\n",
    "    model.add(Dropout(0.5))\n",
    "    model.add(Dense(7, activation='softmax'))\n",
    "\n",
    "    if weights_path:\n",
    "        model.load_weights(weights_path)\n",
    "\n",
    "    return model\n",
    "\n",
    "model = VGG_16()\n",
    "sgd = SGD(lr=0.1, decay=1e-6, momentum=0.9, nesterov=True)\n",
    "model.compile(optimizer=sgd, loss='categorical_crossentropy')"
   ]
  },
  {
   "cell_type": "code",
   "execution_count": 14,
   "metadata": {
    "collapsed": false
   },
   "outputs": [],
   "source": [
    "from PIL import Image\n",
    "image = np.array(Image.open('/home/mckc/Downloads/1.jpg'))\n",
    "predictor_model = \"/home/mckc/Downloads/shape_predictor_68_face_landmarks.dat\"\n",
    "\n",
    "detector = dlib.get_frontal_face_detector()\n",
    "predictor = dlib.shape_predictor(predictor_model)\n",
    "rects = detector(image, 1)\n",
    "    \n",
    "if len(rects) > 1:\n",
    "    print 'TooManyFaces'\n",
    "if len(rects) == 0:\n",
    "    print 'NoFaces'\n",
    "coords = np.array([[p.x, p.y] for p in predictor(image, rects[0]).parts()])\n",
    "centroid = coords.mean(axis=0)"
   ]
  },
  {
   "cell_type": "code",
   "execution_count": 38,
   "metadata": {
    "collapsed": false
   },
   "outputs": [],
   "source": [
    "a = np.array(rects[0])"
   ]
  },
  {
   "cell_type": "code",
   "execution_count": 26,
   "metadata": {
    "collapsed": false
   },
   "outputs": [
    {
     "data": {
      "text/plain": [
       "<matplotlib.image.AxesImage at 0x7fc3a78ca110>"
      ]
     },
     "execution_count": 26,
     "metadata": {},
     "output_type": "execute_result"
    },
    {
     "data": {
      "image/png": "[encoded data removed]",
      "text/plain": [
       "<matplotlib.figure.Figure at 0x7fc3b5708790>"
      ]
     },
     "metadata": {},
     "output_type": "display_data"
    }
   ],
   "source": [
    "import matplotlib.pyplot as plt\n",
    "%matplotlib inline\n",
    "from skimage.transform import resize\n",
    "\n",
    "plt.imshow(resize(image[44:95,72:124],(96,96)))"
   ]
  },
  {
   "cell_type": "code",
   "execution_count": null,
   "metadata": {
    "collapsed": true
   },
   "outputs": [],
   "source": []
  }
 ],
 "metadata": {
  "kernelspec": {
   "display_name": "Python 2",
   "language": "python",
   "name": "python2"
  },
  "language_info": {
   "codemirror_mode": {
    "name": "ipython",
    "version": 2
   },
   "file_extension": ".py",
   "mimetype": "text/x-python",
   "name": "python",
   "nbconvert_exporter": "python",
   "pygments_lexer": "ipython2",
   "version": "2.7.12"
  }
 },
 "nbformat": 4,
 "nbformat_minor": 0
}
