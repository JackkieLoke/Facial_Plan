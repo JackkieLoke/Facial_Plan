{
 "cells": [
  {
   "cell_type": "code",
   "execution_count": 1,
   "metadata": {
    "collapsed": false
   },
   "outputs": [],
   "source": [
    "%matplotlib inline\n",
    "import pandas as pd\n",
    "import numpy as np\n",
    "import cv2\n",
    "import matplotlib.pyplot as plt\n",
    "import matplotlib.cm as cm\n",
    "from termcolor import colored\n",
    "\n",
    "face_cascade = cv2.CascadeClassifier('/home/mckc/Downloads/opencv-2.4.13/data/haarcascades_GPU/haarcascade_frontalface_default.xml')"
   ]
  },
  {
   "cell_type": "code",
   "execution_count": 15,
   "metadata": {
    "collapsed": false
   },
   "outputs": [],
   "source": [
    "#Reading the image data into numpy\n",
    "def rgb2gray(rgb):\n",
    "    return np.dot(rgb[:,:,:], [0.299, 0.587, 0.114])\n",
    "\n",
    "def load_data():\n",
    "    import pandas as pd\n",
    "    import numpy as np\n",
    "    from PIL import Image\n",
    "    \n",
    "    train = pd.read_csv('/home/mckc/All Data/train.csv')\n",
    "    test = pd.read_csv('/home/mckc/All Data/test.csv')\n",
    "    print 'the training data shape is ',train.shape\n",
    "    print 'the test data shape is ', test.shape\n",
    "    \n",
    "    X_tr = np.zeros((1,1944,2592),dtype=np.uint8)\n",
    "    iteration = 0\n",
    "    for i in train.values[:,0]:\n",
    "        image = rgb2gray(np.array(Image.open(i))).astype(np.uint8).reshape(1,1944,2592)\n",
    "#     print X_tr.shape,image.shape\n",
    "        X_tr =  np.vstack((X_tr,image))\n",
    "        iteration+=1\n",
    "        if iteration % 50==0:\n",
    "            print colored((float(iteration)/len(train.values[:,0])*100 ,' Percentage complete'), 'green')\n",
    "    Y_tr = train.values[:,1]\n",
    "    X_tr = X_tr[1:,:,:]\n",
    "    X_ts = np.zeros((1,1944,2592),dtype=np.uint8)\n",
    "    for i in test.values[:,0]:\n",
    "        image = rgb2gray(np.array(Image.open(i))).astype(np.uint8).reshape(1,1944,2592)\n",
    "        X_ts = np.vstack((X_ts,image))\n",
    "    Y_ts = test.values[:,1]\n",
    "    X_ts = X_ts[1:,:,:]\n",
    "    print 'the training file shape',X_tr.shape,Y_tr.shape\n",
    "    print 'the testing file shape',X_ts.shape,Y_ts.shape\n",
    "    \n",
    "    return X_tr,X_ts,Y_tr,Y_ts    "
   ]
  },
  {
   "cell_type": "code",
   "execution_count": 3,
   "metadata": {
    "collapsed": false
   },
   "outputs": [],
   "source": [
    "def simulate(X,Y):\n",
    "    import scipy as sp\n",
    "    import scipy.ndimage\n",
    "    complete = np.zeros((1,96,96),dtype=np.uint8)\n",
    "    Y_complete = []\n",
    "    for i in range(len(X)):\n",
    "        complete = np.vstack((complete,X[i,:,:].reshape(1,96,96)))\n",
    "        complete = np.vstack((complete,scipy.ndimage.rotate(X[i,:,:], angle = 5,reshape=False,cval=1).reshape(1,96,96)))\n",
    "        complete = np.vstack((complete,scipy.ndimage.rotate(X[i,:,:], angle = 10,reshape=False,cval=1).reshape(1,96,96)))\n",
    "        complete = np.vstack((complete,scipy.ndimage.rotate(X[i,:,:], angle = 15,reshape=False,cval=1).reshape(1,96,96)))\n",
    "        complete = np.vstack((complete,scipy.ndimage.rotate(X[i,:,:], angle = -5,reshape=False,cval=1).reshape(1,96,96)))\n",
    "        complete = np.vstack((complete,scipy.ndimage.rotate(X[i,:,:], angle = -15,reshape=False,cval=1).reshape(1,96,96)))\n",
    "        complete = np.vstack((complete,scipy.ndimage.rotate(X[i,:,:], angle = -10,reshape=False,cval=1).reshape(1,96,96)))\n",
    "        rotated = np.fliplr(X[i,:,:])\n",
    "        complete = np.vstack((complete,scipy.ndimage.rotate(rotated, angle = 5,reshape=False,cval=1).reshape(1,96,96)))\n",
    "        complete = np.vstack((complete,scipy.ndimage.rotate(rotated, angle = 10,reshape=False,cval=1).reshape(1,96,96)))\n",
    "        complete = np.vstack((complete,scipy.ndimage.rotate(rotated, angle = 15,reshape=False,cval=1).reshape(1,96,96)))\n",
    "        complete = np.vstack((complete,scipy.ndimage.rotate(rotated, angle = -5,reshape=False,cval=1).reshape(1,96,96)))\n",
    "        complete = np.vstack((complete,scipy.ndimage.rotate(rotated, angle = -10,reshape=False,cval=1).reshape(1,96,96)))\n",
    "        complete = np.vstack((complete,scipy.ndimage.rotate(rotated, angle = -15,reshape=False,cval=1).reshape(1,96,96)))\n",
    "        complete = np.vstack((complete,rotated.reshape(1,96,96)))\n",
    "        Y_complete = np.append(Y_complete,([Y[i]]*14))\n",
    "        if i % 10==0:\n",
    "            print colored((float(i)/len(X)*100 ,' Percentage complete'),'green')\n",
    "    complete = complete[1:,:,:]\n",
    "    return complete,Y_complete"
   ]
  },
  {
   "cell_type": "code",
   "execution_count": 4,
   "metadata": {
    "collapsed": true
   },
   "outputs": [],
   "source": [
    "def extract_faces(X_tr,Y_tr):\n",
    "    from skimage.transform import resize\n",
    "    import time\n",
    "    start_time = time.clock()\n",
    "    all_faces = np.zeros((1,96,96),dtype=np.uint8)\n",
    "    missing = []\n",
    "    multiple = []\n",
    "    Y= []\n",
    "    for i in range(len(X_tr)):\n",
    "        faces  = face_cascade.detectMultiScale(X_tr[i,:,:],scaleFactor=1.3,minNeighbors=5,minSize=(70, 70))\n",
    "        n_faces = len(faces)\n",
    "        if n_faces is 1:\n",
    "            for (x,y,w,h) in faces:\n",
    "                fac = np.array(X_tr[i,:,:])[y:(y+h),x:(x+h)]\n",
    "                out = (resize(fac,(96,96))).reshape((1,96,96))\n",
    "                all_faces = np.vstack((all_faces,out))\n",
    "                Y = np.append(Y,Y_tr[i])\n",
    "        else:\n",
    "            if n_faces > 1:\n",
    "                #print ('There are multiple faces for index %d and with length %d' % (i , n_faces))\n",
    "                missing = np.append(missing,i)\n",
    "                #all_faces = np.vstack((all_faces,np.zeros((1,96,96),dtype=np.uint8)))\n",
    "            else:\n",
    "                #print ('The face is missing for index %d' %i)\n",
    "                multiple = np.append(multiple,i)\n",
    "        if i % 50==0:\n",
    "            print colored((float(i)/len(X_tr)*100 ,' Percentage complete'), 'green')\n",
    "\n",
    "    all_faces = all_faces[1:,:,:]\n",
    "    print all_faces.shape\n",
    "    print time.clock() - start_time, \"seconds\"\n",
    "    return all_faces,missing,multiple,Y"
   ]
  },
  {
   "cell_type": "code",
   "execution_count": 5,
   "metadata": {
    "collapsed": true
   },
   "outputs": [],
   "source": [
    "def load(data):\n",
    "    import os\n",
    "    import numpy as np\n",
    "    files = os.listdir('/home/mckc/all_'+data+'/')\n",
    "    X = []\n",
    "    Y = []\n",
    "    for i in files:\n",
    "        X = np.append(X,np.load(i))\n",
    "        index = i.index('_')\n",
    "        Y = np.append(Y,i[:index])\n",
    "    return X,Y"
   ]
  },
  {
   "cell_type": "code",
   "execution_count": 6,
   "metadata": {
    "collapsed": true
   },
   "outputs": [],
   "source": [
    "def Save_data(X,Y,data):\n",
    "    for i in range(len(X)):\n",
    "        file_name = '/home/mckc/all_'+data+'/'+Y[i]+'_'+str(i)+'.npy'\n",
    "        np.save(file_name,X[i,:,:])"
   ]
  },
  {
   "cell_type": "code",
   "execution_count": 16,
   "metadata": {
    "collapsed": false
   },
   "outputs": [
    {
     "name": "stdout",
     "output_type": "stream",
     "text": [
      "the training data shape is  (586, 2)\n",
      "the test data shape is  (195, 2)\n",
      "\u001b[32m(8.532423208191126, ' Percentage complete')\u001b[0m\n",
      "\u001b[32m(17.064846416382252, ' Percentage complete')\u001b[0m\n",
      "\u001b[32m(25.597269624573375, ' Percentage complete')\u001b[0m\n",
      "\u001b[32m(34.129692832764505, ' Percentage complete')\u001b[0m\n",
      "\u001b[32m(42.66211604095563, ' Percentage complete')\u001b[0m\n"
     ]
    },
    {
     "ename": "IndexError",
     "evalue": "too many indices for array",
     "output_type": "error",
     "traceback": [
      "\u001b[1;31m---------------------------------------------------------------------------\u001b[0m",
      "\u001b[1;31mIndexError\u001b[0m                                Traceback (most recent call last)",
      "\u001b[1;32m<ipython-input-16-7a0087c8fa35>\u001b[0m in \u001b[0;36m<module>\u001b[1;34m()\u001b[0m\n\u001b[1;32m----> 1\u001b[1;33m \u001b[0mX_tr\u001b[0m\u001b[1;33m,\u001b[0m\u001b[0mX_tst\u001b[0m\u001b[1;33m,\u001b[0m\u001b[0mY_tr\u001b[0m\u001b[1;33m,\u001b[0m\u001b[0mY_tst\u001b[0m \u001b[1;33m=\u001b[0m \u001b[0mload_data\u001b[0m\u001b[1;33m(\u001b[0m\u001b[1;33m)\u001b[0m\u001b[1;33m\u001b[0m\u001b[0m\n\u001b[0m",
      "\u001b[1;32m<ipython-input-15-68dd552f5a1a>\u001b[0m in \u001b[0;36mload_data\u001b[1;34m()\u001b[0m\n\u001b[0;32m     16\u001b[0m     \u001b[0miteration\u001b[0m \u001b[1;33m=\u001b[0m \u001b[1;36m0\u001b[0m\u001b[1;33m\u001b[0m\u001b[0m\n\u001b[0;32m     17\u001b[0m     \u001b[1;32mfor\u001b[0m \u001b[0mi\u001b[0m \u001b[1;32min\u001b[0m \u001b[0mtrain\u001b[0m\u001b[1;33m.\u001b[0m\u001b[0mvalues\u001b[0m\u001b[1;33m[\u001b[0m\u001b[1;33m:\u001b[0m\u001b[1;33m,\u001b[0m\u001b[1;36m0\u001b[0m\u001b[1;33m]\u001b[0m\u001b[1;33m:\u001b[0m\u001b[1;33m\u001b[0m\u001b[0m\n\u001b[1;32m---> 18\u001b[1;33m         \u001b[0mimage\u001b[0m \u001b[1;33m=\u001b[0m \u001b[0mrgb2gray\u001b[0m\u001b[1;33m(\u001b[0m\u001b[0mnp\u001b[0m\u001b[1;33m.\u001b[0m\u001b[0marray\u001b[0m\u001b[1;33m(\u001b[0m\u001b[0mImage\u001b[0m\u001b[1;33m.\u001b[0m\u001b[0mopen\u001b[0m\u001b[1;33m(\u001b[0m\u001b[0mi\u001b[0m\u001b[1;33m)\u001b[0m\u001b[1;33m)\u001b[0m\u001b[1;33m)\u001b[0m\u001b[1;33m.\u001b[0m\u001b[0mastype\u001b[0m\u001b[1;33m(\u001b[0m\u001b[0mnp\u001b[0m\u001b[1;33m.\u001b[0m\u001b[0muint8\u001b[0m\u001b[1;33m)\u001b[0m\u001b[1;33m.\u001b[0m\u001b[0mreshape\u001b[0m\u001b[1;33m(\u001b[0m\u001b[1;36m1\u001b[0m\u001b[1;33m,\u001b[0m\u001b[1;36m1944\u001b[0m\u001b[1;33m,\u001b[0m\u001b[1;36m2592\u001b[0m\u001b[1;33m)\u001b[0m\u001b[1;33m\u001b[0m\u001b[0m\n\u001b[0m\u001b[0;32m     19\u001b[0m \u001b[1;31m#     print X_tr.shape,image.shape\u001b[0m\u001b[1;33m\u001b[0m\u001b[1;33m\u001b[0m\u001b[0m\n\u001b[0;32m     20\u001b[0m         \u001b[0mX_tr\u001b[0m \u001b[1;33m=\u001b[0m  \u001b[0mnp\u001b[0m\u001b[1;33m.\u001b[0m\u001b[0mvstack\u001b[0m\u001b[1;33m(\u001b[0m\u001b[1;33m(\u001b[0m\u001b[0mX_tr\u001b[0m\u001b[1;33m,\u001b[0m\u001b[0mimage\u001b[0m\u001b[1;33m)\u001b[0m\u001b[1;33m)\u001b[0m\u001b[1;33m\u001b[0m\u001b[0m\n",
      "\u001b[1;32m<ipython-input-15-68dd552f5a1a>\u001b[0m in \u001b[0;36mrgb2gray\u001b[1;34m(rgb)\u001b[0m\n\u001b[0;32m      1\u001b[0m \u001b[1;31m#Reading the image data into numpy\u001b[0m\u001b[1;33m\u001b[0m\u001b[1;33m\u001b[0m\u001b[0m\n\u001b[0;32m      2\u001b[0m \u001b[1;32mdef\u001b[0m \u001b[0mrgb2gray\u001b[0m\u001b[1;33m(\u001b[0m\u001b[0mrgb\u001b[0m\u001b[1;33m)\u001b[0m\u001b[1;33m:\u001b[0m\u001b[1;33m\u001b[0m\u001b[0m\n\u001b[1;32m----> 3\u001b[1;33m     \u001b[1;32mreturn\u001b[0m \u001b[0mnp\u001b[0m\u001b[1;33m.\u001b[0m\u001b[0mdot\u001b[0m\u001b[1;33m(\u001b[0m\u001b[0mrgb\u001b[0m\u001b[1;33m[\u001b[0m\u001b[1;33m:\u001b[0m\u001b[1;33m,\u001b[0m\u001b[1;33m:\u001b[0m\u001b[1;33m,\u001b[0m\u001b[1;33m:\u001b[0m\u001b[1;33m]\u001b[0m\u001b[1;33m,\u001b[0m \u001b[1;33m[\u001b[0m\u001b[1;36m0.299\u001b[0m\u001b[1;33m,\u001b[0m \u001b[1;36m0.587\u001b[0m\u001b[1;33m,\u001b[0m \u001b[1;36m0.114\u001b[0m\u001b[1;33m]\u001b[0m\u001b[1;33m)\u001b[0m\u001b[1;33m\u001b[0m\u001b[0m\n\u001b[0m\u001b[0;32m      4\u001b[0m \u001b[1;33m\u001b[0m\u001b[0m\n\u001b[0;32m      5\u001b[0m \u001b[1;32mdef\u001b[0m \u001b[0mload_data\u001b[0m\u001b[1;33m(\u001b[0m\u001b[1;33m)\u001b[0m\u001b[1;33m:\u001b[0m\u001b[1;33m\u001b[0m\u001b[0m\n",
      "\u001b[1;31mIndexError\u001b[0m: too many indices for array"
     ]
    }
   ],
   "source": [
    "X_tr,X_tst,Y_tr,Y_tst = load_data()"
   ]
  },
  {
   "cell_type": "code",
   "execution_count": 8,
   "metadata": {
    "collapsed": false
   },
   "outputs": [
    {
     "ename": "NameError",
     "evalue": "name 'X_tr' is not defined",
     "output_type": "error",
     "traceback": [
      "\u001b[1;31m---------------------------------------------------------------------------\u001b[0m",
      "\u001b[1;31mNameError\u001b[0m                                 Traceback (most recent call last)",
      "\u001b[1;32m<ipython-input-8-0df100e47570>\u001b[0m in \u001b[0;36m<module>\u001b[1;34m()\u001b[0m\n\u001b[1;32m----> 1\u001b[1;33m \u001b[0mX_train\u001b[0m\u001b[1;33m,\u001b[0m\u001b[0mmissing\u001b[0m\u001b[1;33m,\u001b[0m\u001b[0mmultiple\u001b[0m\u001b[1;33m,\u001b[0m\u001b[0mY_train\u001b[0m \u001b[1;33m=\u001b[0m \u001b[0mextract_faces\u001b[0m\u001b[1;33m(\u001b[0m\u001b[0mX_tr\u001b[0m\u001b[1;33m[\u001b[0m\u001b[1;33m:\u001b[0m\u001b[1;33m,\u001b[0m\u001b[1;33m:\u001b[0m\u001b[1;33m,\u001b[0m\u001b[1;33m:\u001b[0m\u001b[1;33m]\u001b[0m\u001b[1;33m,\u001b[0m\u001b[0mY_tr\u001b[0m\u001b[1;33m)\u001b[0m\u001b[1;33m\u001b[0m\u001b[0m\n\u001b[0m\u001b[0;32m      2\u001b[0m \u001b[0mX_test\u001b[0m\u001b[1;33m,\u001b[0m\u001b[0mmissing_test\u001b[0m\u001b[1;33m,\u001b[0m\u001b[0mmultiple_test\u001b[0m\u001b[1;33m,\u001b[0m\u001b[0mY_test\u001b[0m \u001b[1;33m=\u001b[0m \u001b[0mextract_faces\u001b[0m\u001b[1;33m(\u001b[0m\u001b[0mX_tst\u001b[0m\u001b[1;33m,\u001b[0m\u001b[0mY_tst\u001b[0m\u001b[1;33m)\u001b[0m\u001b[1;33m\u001b[0m\u001b[0m\n",
      "\u001b[1;31mNameError\u001b[0m: name 'X_tr' is not defined"
     ]
    }
   ],
   "source": [
    "X_train,missing,multiple,Y_train = extract_faces(X_tr[:,:,:],Y_tr)\n",
    "X_test,missing_test,multiple_test,Y_test = extract_faces(X_tst,Y_tst)"
   ]
  },
  {
   "cell_type": "code",
   "execution_count": null,
   "metadata": {
    "collapsed": true
   },
   "outputs": [],
   "source": [
    "import time\n",
    "start_time = time.clock()\n",
    "X,Y = simulate(X_train,Y_train)\n",
    "print X.shape,Y.shape\n",
    "print time.clock() - start_time, \"seconds\""
   ]
  },
  {
   "cell_type": "code",
   "execution_count": null,
   "metadata": {
    "collapsed": true
   },
   "outputs": [],
   "source": [
    "Save_data(X,Y,'train')\n",
    "Save_data(X_test,Y_test,'test')"
   ]
  },
  {
   "cell_type": "code",
   "execution_count": null,
   "metadata": {
    "collapsed": true
   },
   "outputs": [],
   "source": [
    "import gc\n",
    "gc.collect()"
   ]
  },
  {
   "cell_type": "code",
   "execution_count": null,
   "metadata": {
    "collapsed": true
   },
   "outputs": [],
   "source": []
  }
 ],
 "metadata": {
  "kernelspec": {
   "display_name": "Python 2",
   "language": "python",
   "name": "python2"
  },
  "language_info": {
   "codemirror_mode": {
    "name": "ipython",
    "version": 2
   },
   "file_extension": ".py",
   "mimetype": "text/x-python",
   "name": "python",
   "nbconvert_exporter": "python",
   "pygments_lexer": "ipython2",
   "version": "2.7.12"
  }
 },
 "nbformat": 4,
 "nbformat_minor": 0
}
