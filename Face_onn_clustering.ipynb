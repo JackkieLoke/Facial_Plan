{
 "cells": [
  {
   "cell_type": "code",
   "execution_count": 102,
   "metadata": {
    "collapsed": false
   },
   "outputs": [
    {
     "data": {
      "text/plain": [
       "'/home/mckc/first cut'"
      ]
     },
     "execution_count": 102,
     "metadata": {},
     "output_type": "execute_result"
    }
   ],
   "source": [
    "%matplotlib inline\n",
    "import os,sys,re\n",
    "from matplotlib import cm\n",
    "import numpy as np\n",
    "from sklearn.cross_validation import train_test_split\n",
    "read_path = '/home/mckc/first cut//'\n",
    "save_path = '/home/mckc/cleaned/'\n",
    "os.chdir(read_path)\n",
    "os.getcwd()"
   ]
  },
  {
   "cell_type": "code",
   "execution_count": 182,
   "metadata": {
    "collapsed": false
   },
   "outputs": [
    {
     "name": "stderr",
     "output_type": "stream",
     "text": [
      "<ipython-input-182-010fc55b4022>:1: SyntaxWarning: import * only allowed at module level\n",
      "  def PCA_comp(data):\n"
     ]
    }
   ],
   "source": [
    "def PCA_comp(data):\n",
    "    from time import *\n",
    "    from sklearn.decomposition import PCA\n",
    "    n_components = 150\n",
    "    \n",
    "    h,w = 96,96\n",
    "\n",
    "    print(\"Extracting the top %d eigenfaces from %d faces\"\n",
    "      % (n_components, image_data.shape[0]))\n",
    "    t0 = time()\n",
    "    pca = PCA(n_components=n_components, whiten=True).fit(images_geq)\n",
    "    print(\"done in %0.3fs\" % (time() - t0))\n",
    "\n",
    "    #eigenfaces = pca.components_.reshape((n_components, h, w))\n",
    "\n",
    "    print(\"Projecting the input data on the eigenfaces orthonormal basis\")\n",
    "    t0 = time()\n",
    "    X = pca.transform(data)\n",
    "    print X.shape\n",
    "    print(\"done in %0.3fs\" % (time() - t0))\n",
    "    return(X)"
   ]
  },
  {
   "cell_type": "code",
   "execution_count": 10,
   "metadata": {
    "collapsed": true
   },
   "outputs": [],
   "source": [
    "#K-mediods file\n",
    "import numpy as np\n",
    "import random\n",
    "\n",
    "def kMedoids(D, k, tmax=100):\n",
    "    # determine dimensions of distance matrix D\n",
    "    m, n = D.shape\n",
    "\n",
    "    if k > n:\n",
    "        raise Exception('too many medoids')\n",
    "    # randomly initialize an array of k medoid indices\n",
    "    M = np.arange(n)\n",
    "    np.random.shuffle(M)\n",
    "    M = np.sort(M[:k])\n",
    "\n",
    "    # create a copy of the array of medoid indices\n",
    "    Mnew = np.copy(M)\n",
    "\n",
    "    # initialize a dictionary to represent clusters\n",
    "    C = {}\n",
    "    for t in xrange(tmax):\n",
    "        # determine clusters, i. e. arrays of data indices\n",
    "        J = np.argmin(D[:,M], axis=1)\n",
    "        for kappa in range(k):\n",
    "            C[kappa] = np.where(J==kappa)[0]\n",
    "        # update cluster medoids\n",
    "        for kappa in range(k):\n",
    "            J = np.mean(D[np.ix_(C[kappa],C[kappa])],axis=1)\n",
    "            j = np.argmin(J)\n",
    "            Mnew[kappa] = C[kappa][j]\n",
    "        np.sort(Mnew)\n",
    "        # check for convergence\n",
    "        if np.array_equal(M, Mnew):\n",
    "            break\n",
    "        M = np.copy(Mnew)\n",
    "    else:\n",
    "        # final update of cluster memberships\n",
    "        J = np.argmin(D[:,M], axis=1)\n",
    "        for kappa in range(k):\n",
    "            C[kappa] = np.where(J==kappa)[0]\n",
    "\n",
    "# return results\n",
    "    return M, C"
   ]
  },
  {
   "cell_type": "raw",
   "metadata": {
    "collapsed": false
   },
   "source": [
    "#directs = os.listdir('K:/COMMON/face onn/')\n",
    "import cv2\n",
    "from cv2 import resize\n",
    "all_images = []\n",
    "subject = []\n",
    "directs = os.listdir(path)\n",
    "for dir in directs:\n",
    "    files = os.listdir(path+dir)\n",
    "    os.chdir(path+dir)\n",
    "    for i in files:\n",
    "        image = resize(cv2.imread(i,0),(96,96))\n",
    "        #image = cv2.imread(i,0)\n",
    "        # Global equalize\n",
    "        image_g_eq = exposure.equalize_hist(image)\n",
    "\n",
    "    # Equalization\n",
    "        image_eql = rank.equalize(image, selem=selem)\n",
    "        images.append(image)\n",
    "        images_geq.append(image_g_eq)\n",
    "        images_eql.append(image_eql)\n",
    "        size.append(image.shape[0])\n",
    "    size = np.array(size)\n",
    "    image_data = np.array(images).reshape(-1,9216)\n",
    "    images_geq = np.array(images_geq).reshape(-1,9216)\n",
    "    images_eql = np.array(images_eql).reshape(-1,9216)\n",
    "    X  = PCA_comp(image_g_eq)\n",
    "    "
   ]
  },
  {
   "cell_type": "code",
   "execution_count": 329,
   "metadata": {
    "collapsed": true
   },
   "outputs": [],
   "source": [
    "folder = 'Selva Chellaiah'"
   ]
  },
  {
   "cell_type": "code",
   "execution_count": 330,
   "metadata": {
    "collapsed": false
   },
   "outputs": [],
   "source": [
    "import cv2\n",
    "from cv2 import resize\n",
    "from skimage import exposure\n",
    "from skimage import exposure\n",
    "from skimage.morphology import disk\n",
    "from skimage.filters import rank\n",
    "selem = disk(30)\n",
    "size = []\n",
    "images_geq = []\n",
    "images_eql = []\n",
    "images = []\n",
    "\n",
    "os.chdir(read_path+folder)\n",
    "files = os.listdir(read_path+folder)\n"
   ]
  },
  {
   "cell_type": "code",
   "execution_count": 331,
   "metadata": {
    "collapsed": false
   },
   "outputs": [
    {
     "name": "stdout",
     "output_type": "stream",
     "text": [
      "Extracting the top 150 eigenfaces from 53 faces\n",
      "done in 0.042s\n",
      "Projecting the input data on the eigenfaces orthonormal basis\n",
      "(53, 53)\n",
      "done in 0.003s\n"
     ]
    },
    {
     "data": {
      "text/plain": [
       "(53, 53)"
      ]
     },
     "execution_count": 331,
     "metadata": {},
     "output_type": "execute_result"
    }
   ],
   "source": [
    "for i in files:\n",
    "    image = resize(cv2.imread(i,0),(96,96))\n",
    "    #image = cv2.imread(i,0)\n",
    "    # Global equalize\n",
    "    image_g_eq = exposure.equalize_hist(image)\n",
    "\n",
    "    # Equalization\n",
    "    image_eql = rank.equalize(image, selem=selem)\n",
    "    images.append(image)\n",
    "    images_geq.append(image_g_eq)\n",
    "    images_eql.append(image_eql)\n",
    "    size.append(image.shape[0])\n",
    "size = np.array(size)\n",
    "image_data = np.array(images).reshape(-1,9216)\n",
    "images_geq = np.array(images_geq).reshape(-1,9216)\n",
    "images_eql = np.array(images_eql).reshape(-1,9216)\n",
    "X  = PCA_comp(images_geq)\n",
    "X.shape"
   ]
  },
  {
   "cell_type": "raw",
   "metadata": {
    "collapsed": false
   },
   "source": [
    "from matplotlib import pyplot as plt\n",
    "from scipy.cluster.hierarchy import dendrogram, linkage\n",
    "\n",
    "# generate the linkage matrix\n",
    "Z = linkage(X, 'ward')\n",
    "\n",
    "from scipy.cluster.hierarchy import cophenet\n",
    "from scipy.spatial.distance import pdist\n",
    "\n",
    "c, coph_dists = cophenet(Z, pdist(X))\n",
    "c"
   ]
  },
  {
   "cell_type": "raw",
   "metadata": {
    "collapsed": false
   },
   "source": [
    "plt.figure(figsize=(25, 10))\n",
    "plt.title('Hierarchical Clustering Dendrogram')\n",
    "plt.xlabel('sample index')\n",
    "plt.ylabel('distance')\n",
    "dendrogram(\n",
    "    Z,\n",
    "    leaf_rotation=90.,  # rotates the x axis labels\n",
    "    leaf_font_size=8.,  # font size for the x axis labels\n",
    ")\n",
    "plt.show()"
   ]
  },
  {
   "cell_type": "raw",
   "metadata": {
    "collapsed": false
   },
   "source": [
    "from scipy.cluster.vq import kmeans\n",
    "from scipy.spatial.distance import cdist,pdist\n",
    "\n",
    "##### cluster data into K=1..20 clusters #####\n",
    "K_MAX = 200\n",
    "KK = range(1,K_MAX+10,10)\n",
    "\n",
    "KM = [kmeans(X[:,:],k,iter=50) for k in KK]\n",
    "centroids = [cent for (cent,var) in KM]\n",
    "D_k = [cdist(X[:,:], cent, 'euclidean') for cent in centroids]\n",
    "cIdx = [np.argmin(D,axis=1) for D in D_k]\n",
    "dist = [np.min(D,axis=1) for D in D_k]\n",
    "\n",
    "tot_withinss = [sum(d**2) for d in dist]  # Total within-cluster sum of squares\n",
    "totss = sum(pdist(X)**2)/X.shape[0]       # The total sum of squares\n",
    "betweenss = totss - tot_withinss      \n",
    "\n",
    "##### plots #####\n",
    "kIdx = 1        # K=10\n",
    "# elbow curve\n",
    "fig = plt.figure()\n",
    "ax = fig.add_subplot(111)\n",
    "ax.plot(KK, betweenss/totss*100, 'b*-')\n",
    "ax.plot(KK[kIdx], betweenss[kIdx]/totss*100, marker='o', markersize=12, \n",
    "    markeredgewidth=2, markeredgecolor='r', markerfacecolor='None')\n",
    "ax.set_ylim((0,100))\n",
    "plt.grid(True)\n",
    "plt.xlabel('Number of clusters')\n",
    "plt.ylabel('Percentage of variance explained (%)')\n",
    "plt.title('Elbow for KMeans clustering')"
   ]
  },
  {
   "cell_type": "code",
   "execution_count": 332,
   "metadata": {
    "collapsed": false
   },
   "outputs": [],
   "source": [
    "from sklearn.metrics.pairwise import pairwise_distances\n",
    "D = pairwise_distances(X, metric='euclidean')\n",
    "\n",
    "# split into 2 clusters\n",
    "M, C = kMedoids(D, 30)\n",
    "cleaned = images_geq[M,].reshape(-1,96,96)\n",
    "\n",
    "os.chdir(save_path+folder)\n",
    "import scipy.misc\n",
    "for i in range(cleaned.shape[0]):\n",
    "    scipy.misc.toimage(cleaned[i]).save(str(folder+'_'+str(i)) +'.jpg')\n",
    "os.chdir(read_path)"
   ]
  },
  {
   "cell_type": "code",
   "execution_count": 333,
   "metadata": {
    "collapsed": false
   },
   "outputs": [
    {
     "data": {
      "text/plain": [
       "<matplotlib.image.AxesImage at 0x7fbbc0454f90>"
      ]
     },
     "execution_count": 333,
     "metadata": {},
     "output_type": "execute_result"
    },
    {
     "data": {
      "image/png": "[encoded data removed]",
      "text/plain": [
       "<matplotlib.figure.Figure at 0x7fbbc052d290>"
      ]
     },
     "metadata": {},
     "output_type": "display_data"
    }
   ],
   "source": [
    "plt.imshow(images_geq[M[6],].reshape(96,96),cmap=cm.Greys_r)"
   ]
  },
  {
   "cell_type": "code",
   "execution_count": 232,
   "metadata": {
    "collapsed": false
   },
   "outputs": [
    {
     "data": {
      "text/plain": [
       "array([  3, 237,  54,  64,  87, 104, 106, 124, 140, 166, 153,   0, 185,\n",
       "       221, 233, 234, 250, 254, 271, 273, 280, 323, 335, 338, 355, 357,\n",
       "       367, 376, 377, 413])"
      ]
     },
     "execution_count": 232,
     "metadata": {},
     "output_type": "execute_result"
    }
   ],
   "source": [
    "M"
   ]
  },
  {
   "cell_type": "code",
   "execution_count": null,
   "metadata": {
    "collapsed": true
   },
   "outputs": [],
   "source": []
  }
 ],
 "metadata": {
  "kernelspec": {
   "display_name": "Python 2",
   "language": "python",
   "name": "python2"
  },
  "language_info": {
   "codemirror_mode": {
    "name": "ipython",
    "version": 2
   },
   "file_extension": ".py",
   "mimetype": "text/x-python",
   "name": "python",
   "nbconvert_exporter": "python",
   "pygments_lexer": "ipython2",
   "version": "2.7.12"
  }
 },
 "nbformat": 4,
 "nbformat_minor": 0
}
