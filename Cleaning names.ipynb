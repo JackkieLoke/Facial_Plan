{
 "cells": [
  {
   "cell_type": "code",
   "execution_count": 34,
   "metadata": {
    "collapsed": false
   },
   "outputs": [],
   "source": [
    "import os\n",
    "os.chdir('/home/mckc/clean')"
   ]
  },
  {
   "cell_type": "code",
   "execution_count": 35,
   "metadata": {
    "collapsed": false
   },
   "outputs": [],
   "source": [
    "files = os.listdir(os.getcwd())"
   ]
  },
  {
   "cell_type": "code",
   "execution_count": 42,
   "metadata": {
    "collapsed": false
   },
   "outputs": [],
   "source": [
    "for i in files:\n",
    "    os.rename(i, i[:a-4]+'_1'+i[a-4:])"
   ]
  },
  {
   "cell_type": "code",
   "execution_count": 41,
   "metadata": {
    "collapsed": false
   },
   "outputs": [
    {
     "name": "stdout",
     "output_type": "stream",
     "text": [
      "Sharath_7_1.jpg\n",
      "Sharath_13_1.jpg\n",
      "Sharath_12_1.jpg\n",
      "Sharath_14_1.jpg\n",
      "Sharath_6_1.jpg\n",
      "Sharath_23_1.jpg\n",
      "Sharath_19_1.jpg\n",
      "Sharath_28_1.jpg\n",
      "Sharath_2_1.jpg\n",
      "Sharath_17_1.jpg\n",
      "Sharath_24_1.jpg\n",
      "Sharath_20_1.jpg\n",
      "Sharath_15_1.jpg\n",
      "Sharath_4_1.jpg\n",
      "Sharath_1_1.jpg\n",
      "Sharath_21_1.jpg\n",
      "Sharath_25_1.jpg\n",
      "Sharath_8_1.jpg\n",
      "Sharath_22_1.jpg\n",
      "Sharath_9_1.jpg\n",
      "Sharath_26_1.jpg\n",
      "Sharath_10_1.jpg\n",
      "Sharath_11_1.jpg\n",
      "Sharath_27_1.jpg\n",
      "Sharath_0_1.jpg\n",
      "Sharath_29_1.jpg\n",
      "Sharath_5_1.jpg\n",
      "Sharath_16_1.jpg\n",
      "Sharath_3_1.jpg\n",
      "Sharath_18_1.jpg\n"
     ]
    }
   ],
   "source": [
    "for i in files:\n",
    "    a = len(i)\n",
    "    print i[:a-4]+'_1'+i[a-4:]"
   ]
  },
  {
   "cell_type": "code",
   "execution_count": null,
   "metadata": {
    "collapsed": true
   },
   "outputs": [],
   "source": []
  }
 ],
 "metadata": {
  "kernelspec": {
   "display_name": "Python 2",
   "language": "python",
   "name": "python2"
  },
  "language_info": {
   "codemirror_mode": {
    "name": "ipython",
    "version": 2
   },
   "file_extension": ".py",
   "mimetype": "text/x-python",
   "name": "python",
   "nbconvert_exporter": "python",
   "pygments_lexer": "ipython2",
   "version": "2.7.12"
  }
 },
 "nbformat": 4,
 "nbformat_minor": 0
}
