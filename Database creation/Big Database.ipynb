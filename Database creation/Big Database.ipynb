{
 "cells": [
  {
   "cell_type": "code",
   "execution_count": 25,
   "metadata": {
    "collapsed": false
   },
   "outputs": [],
   "source": [
    "import os\n",
    "import cv2\n",
    "import dlib\n",
    "import scipy.misc\n",
    "import numpy as np\n",
    "%matplotlib inline\n",
    "import matplotlib.pyplot as plt\n",
    "from matplotlib import cm\n",
    "\n",
    "detector = dlib.get_frontal_face_detector()\n",
    "read_dir = '/home/mckc/Downloads/data bases/General'\n",
    "os.chdir(read_dir)\n",
    "save_dir = '/home/mckc/Downloads/bigdb'\n",
    "face_cascade = cv2.CascadeClassifier('/home/mckc/Downloads/opencv_build/opencv/data/haarcascades_GPU/haarcascade_frontalface_default.xml')"
   ]
  },
  {
   "cell_type": "code",
   "execution_count": 26,
   "metadata": {
    "collapsed": false
   },
   "outputs": [],
   "source": [
    "folders = os.listdir(read_dir)"
   ]
  },
  {
   "cell_type": "code",
   "execution_count": 50,
   "metadata": {
    "collapsed": false
   },
   "outputs": [
    {
     "name": "stdout",
     "output_type": "stream",
     "text": [
      "0.0%\n",
      "4.0%\n",
      "7.0%\n",
      "11.0%\n",
      "14.0%\n",
      "18.0%\n",
      "22.0%\n",
      "25.0%\n",
      "29.0%\n",
      "32.0%\n",
      "36.0%\n",
      "39.0%\n",
      "43.0%\n",
      "47.0%\n",
      "50.0%\n",
      "54.0%\n",
      "57.0%\n",
      "61.0%\n",
      "65.0%\n",
      "68.0%\n",
      "72.0%\n",
      "75.0%\n",
      "79.0%\n",
      "82.0%\n",
      "86.0%\n",
      "90.0%\n",
      "93.0%\n",
      "97.0%\n"
     ]
    }
   ],
   "source": [
    "os.mkdir(save_dir)\n",
    "count = 0\n",
    "length = len(folders)\n",
    "for folder in folders:\n",
    "    if count%250==0:\n",
    "        print(str(round(float(count)/length,2)*100) + '%')\n",
    "    files = os.listdir(read_dir +'/' +folder)\n",
    "    os.mkdir(save_dir +'/' +folder)\n",
    "    os.chdir(save_dir +'/' +folder)\n",
    "    i = 0\n",
    "    for file in files:\n",
    "        i+=1\n",
    "        image = cv2.imread(read_dir +'/' +folder+'/'+file,0)\n",
    "        if image is None:\n",
    "            continue\n",
    "        if(image.shape[0] > 70 and image.shape[1] > 0):\n",
    "            faces = detector(image, 1)\n",
    "            for a,b in enumerate(faces):\n",
    "                h_off = 0\n",
    "                v_off = 0\n",
    "                if(b.top()<0):\n",
    "                    h_off = b.top()\n",
    "                if(b.left()<0):\n",
    "                    v_off = b.left()\n",
    "                fac = image[b.top()-h_off:b.bottom()-h_off,b.left()-v_off:b.right()-v_off]   \n",
    "                fac = cv2.resize(fac,(96,96))\n",
    "                scipy.misc.toimage(fac).save(folder+'_'+str(i)+'.jpg')\n",
    "    count+=1"
   ]
  },
  {
   "cell_type": "code",
   "execution_count": 52,
   "metadata": {
    "collapsed": true
   },
   "outputs": [],
   "source": [
    "file_count = []\n",
    "for folder in folders:\n",
    "    files = os.listdir(save_dir+'/'+folder)\n",
    "    file_count.append(len(files))"
   ]
  },
  {
   "cell_type": "code",
   "execution_count": 88,
   "metadata": {
    "collapsed": false,
    "scrolled": true
   },
   "outputs": [
    {
     "data": {
      "text/plain": [
       "[(0, 238),\n",
       " (1, 4042),\n",
       " (2, 777),\n",
       " (3, 313),\n",
       " (4, 221),\n",
       " (5, 152),\n",
       " (6, 106),\n",
       " (7, 105),\n",
       " (8, 94),\n",
       " (9, 100),\n",
       " (10, 315),\n",
       " (11, 15),\n",
       " (12, 14),\n",
       " (13, 14),\n",
       " (14, 17),\n",
       " (15, 15),\n",
       " (16, 25),\n",
       " (17, 22),\n",
       " (18, 21),\n",
       " (19, 46),\n",
       " (20, 91),\n",
       " (21, 11),\n",
       " (22, 13),\n",
       " (23, 4),\n",
       " (24, 8),\n",
       " (25, 4),\n",
       " (26, 3),\n",
       " (27, 1),\n",
       " (28, 4),\n",
       " (29, 3),\n",
       " (30, 5),\n",
       " (31, 6),\n",
       " (32, 5),\n",
       " (33, 3),\n",
       " (34, 1),\n",
       " (35, 3),\n",
       " (36, 4),\n",
       " (37, 5),\n",
       " (38, 2),\n",
       " (39, 5),\n",
       " (40, 3),\n",
       " (41, 6),\n",
       " (42, 2),\n",
       " (43, 2),\n",
       " (44, 3),\n",
       " (45, 2),\n",
       " (46, 2),\n",
       " (48, 5),\n",
       " (49, 3),\n",
       " (50, 2),\n",
       " (51, 1),\n",
       " (52, 4),\n",
       " (53, 1),\n",
       " (54, 1),\n",
       " (55, 2),\n",
       " (56, 2),\n",
       " (57, 3),\n",
       " (58, 2),\n",
       " (59, 1),\n",
       " (60, 2),\n",
       " (61, 1),\n",
       " (62, 1),\n",
       " (63, 3),\n",
       " (64, 2),\n",
       " (67, 1),\n",
       " (68, 1),\n",
       " (69, 1),\n",
       " (70, 1),\n",
       " (71, 2),\n",
       " (73, 1),\n",
       " (76, 3),\n",
       " (77, 1),\n",
       " (78, 1),\n",
       " (79, 3),\n",
       " (82, 1),\n",
       " (83, 2),\n",
       " (85, 1),\n",
       " (86, 1),\n",
       " (87, 1),\n",
       " (89, 1),\n",
       " (91, 2),\n",
       " (92, 1),\n",
       " (93, 1),\n",
       " (94, 1),\n",
       " (100, 1),\n",
       " (103, 1),\n",
       " (104, 1),\n",
       " (105, 2),\n",
       " (109, 1),\n",
       " (116, 2),\n",
       " (120, 1),\n",
       " (127, 2),\n",
       " (131, 1),\n",
       " (132, 1),\n",
       " (137, 1),\n",
       " (140, 1),\n",
       " (144, 1),\n",
       " (145, 1),\n",
       " (148, 1),\n",
       " (149, 1),\n",
       " (151, 1),\n",
       " (153, 1),\n",
       " (154, 1),\n",
       " (158, 1),\n",
       " (169, 1),\n",
       " (170, 1),\n",
       " (175, 1),\n",
       " (179, 1),\n",
       " (186, 1),\n",
       " (220, 2),\n",
       " (221, 1),\n",
       " (223, 1),\n",
       " (236, 1),\n",
       " (253, 1),\n",
       " (281, 1),\n",
       " (283, 1),\n",
       " (299, 1),\n",
       " (303, 1),\n",
       " (312, 2),\n",
       " (317, 2),\n",
       " (319, 1),\n",
       " (324, 1),\n",
       " (325, 2),\n",
       " (328, 1),\n",
       " (331, 2),\n",
       " (340, 1),\n",
       " (349, 1),\n",
       " (351, 1),\n",
       " (357, 1),\n",
       " (371, 1),\n",
       " (528, 1)]"
      ]
     },
     "execution_count": 88,
     "metadata": {},
     "output_type": "execute_result"
    }
   ],
   "source": [
    "unique, counts = np.unique(file_count, return_counts=True)\n",
    "zip(unique,counts)"
   ]
  },
  {
   "cell_type": "code",
   "execution_count": 102,
   "metadata": {
    "collapsed": false
   },
   "outputs": [
    {
     "data": {
      "text/plain": [
       "2691"
      ]
     },
     "execution_count": 102,
     "metadata": {},
     "output_type": "execute_result"
    }
   ],
   "source": [
    "len(folders) - ( np.count_nonzero(np.array(file_count)==0) + np.count_nonzero(np.array(file_count)==1))"
   ]
  },
  {
   "cell_type": "code",
   "execution_count": 105,
   "metadata": {
    "collapsed": false
   },
   "outputs": [],
   "source": [
    "import shutil\n",
    "\n",
    "for folder in folders:\n",
    "    files = os.listdir(save_dir+'/'+folder)\n",
    "    if(len(files)<2):\n",
    "        shutil.rmtree(save_dir+'/'+folder)"
   ]
  },
  {
   "cell_type": "code",
   "execution_count": null,
   "metadata": {
    "collapsed": true
   },
   "outputs": [],
   "source": []
  }
 ],
 "metadata": {
  "kernelspec": {
   "display_name": "Python 2",
   "language": "python",
   "name": "python2"
  },
  "language_info": {
   "codemirror_mode": {
    "name": "ipython",
    "version": 2
   },
   "file_extension": ".py",
   "mimetype": "text/x-python",
   "name": "python",
   "nbconvert_exporter": "python",
   "pygments_lexer": "ipython2",
   "version": "2.7.12"
  }
 },
 "nbformat": 4,
 "nbformat_minor": 0
}
