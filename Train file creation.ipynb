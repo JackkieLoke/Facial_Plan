{
 "cells": [
  {
   "cell_type": "code",
   "execution_count": 3,
   "metadata": {
    "collapsed": false
   },
   "outputs": [],
   "source": [
    "import os,sys,re\n",
    "import numpy as np\n",
    "from sklearn.cross_validation import train_test_split\n",
    "os.chdir('/home/mckc/All Data')\n",
    "direct = os.getcwd()"
   ]
  },
  {
   "cell_type": "code",
   "execution_count": 4,
   "metadata": {
    "collapsed": false
   },
   "outputs": [],
   "source": [
    "files = os.listdir(os.getcwd())\n",
    "subject = []\n",
    "file_name = []"
   ]
  },
  {
   "cell_type": "code",
   "execution_count": 5,
   "metadata": {
    "collapsed": false
   },
   "outputs": [],
   "source": [
    "for name in files:\n",
    "    file_name = np.append(file_name,direct+'/' + name)\n",
    "    index = name.index('_')\n",
    "    subject = np.append(subject,name[:index])"
   ]
  },
  {
   "cell_type": "code",
   "execution_count": 6,
   "metadata": {
    "collapsed": false
   },
   "outputs": [],
   "source": [
    "data = np.vstack((np.array(file_name), np.array(subject)))\n",
    "data = np.transpose(data)\n",
    "data = data.astype(str)\n",
    "train , test = train_test_split(data, test_size=0.25, random_state=42,stratify=subject)"
   ]
  },
  {
   "cell_type": "code",
   "execution_count": 7,
   "metadata": {
    "collapsed": false
   },
   "outputs": [],
   "source": [
    "test[0,0] = 'File_name'\n",
    "test[0,1] = 'subject'\n",
    "np.savetxt(\"test.csv\", test, delimiter=\",\",fmt='%s')"
   ]
  },
  {
   "cell_type": "code",
   "execution_count": 8,
   "metadata": {
    "collapsed": false
   },
   "outputs": [],
   "source": [
    "train[0,0] = 'File_name'\n",
    "train[0,1] = 'subject'\n",
    "np.savetxt(\"train.csv\", train, delimiter=\",\",fmt='%s')"
   ]
  },
  {
   "cell_type": "code",
   "execution_count": null,
   "metadata": {
    "collapsed": true
   },
   "outputs": [],
   "source": []
  }
 ],
 "metadata": {
  "kernelspec": {
   "display_name": "Python 2",
   "language": "python",
   "name": "python2"
  },
  "language_info": {
   "codemirror_mode": {
    "name": "ipython",
    "version": 2
   },
   "file_extension": ".py",
   "mimetype": "text/x-python",
   "name": "python",
   "nbconvert_exporter": "python",
   "pygments_lexer": "ipython2",
   "version": "2.7.12"
  }
 },
 "nbformat": 4,
 "nbformat_minor": 0
}
