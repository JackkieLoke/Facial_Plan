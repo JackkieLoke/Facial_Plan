{
 "cells": [
  {
   "cell_type": "code",
   "execution_count": 1,
   "metadata": {
    "collapsed": false
   },
   "outputs": [],
   "source": [
    "import os,sys,re\n",
    "import numpy as np\n",
    "from sklearn.cross_validation import train_test_split\n",
    "os.chdir('/home/mckc/All Data/')\n",
    "direct = os.getcwd()"
   ]
  },
  {
   "cell_type": "code",
   "execution_count": 2,
   "metadata": {
    "collapsed": false
   },
   "outputs": [],
   "source": [
    "files = os.listdir(os.getcwd())\n",
    "subject = []\n",
    "file_name = []"
   ]
  },
  {
   "cell_type": "code",
   "execution_count": 5,
   "metadata": {
    "collapsed": false
   },
   "outputs": [
    {
     "name": "stdout",
     "output_type": "stream",
     "text": [
      "Gopika_49.jpg\n",
      "Pandian_9.jpg\n",
      "Sharath_22_1.jpg\n",
      "Omar_3.jpg\n",
      "Gopika_16.jpg\n",
      "Pandian_without_specs_bcap_6.jpg\n",
      "Gopika_19.jpg\n",
      "Gopika_specs_cap_5.jpg\n",
      "Sharath_35.jpg\n",
      "Arun_35.jpg\n",
      "Kinkar_3.jpg\n",
      "Sharath_cap_8.jpg\n",
      "Arun_40.jpg\n",
      "Omar_with_mobile18.jpg\n",
      "Sharath_38.jpg\n",
      "Omar_with_head_gear0.jpg\n",
      "Arun_with_specs_3.jpg\n",
      "Abhay_21.jpg\n",
      "Gopika_11.jpg\n",
      "Pandian_with_specs_bcap_3.jpg\n",
      "Sharath_with_headgear8.jpg\n",
      "Arun_8.jpg\n",
      "Arun_with_specs_9.jpg\n",
      "Gopika_45.jpg\n",
      "Sharath_20.jpg\n",
      "Omar_27.jpg\n",
      "Sharath_13_1.jpg\n",
      "Sharath_spec_cap_11.jpg\n",
      "Sharath_with_mobile11.jpg\n",
      "Arun_4.jpg\n",
      "Gopika_5.jpg\n",
      "Omar_with_mobile10.jpg\n",
      "Sharath_with_headgear12.jpg\n",
      "test.csv\n"
     ]
    },
    {
     "ename": "ValueError",
     "evalue": "substring not found",
     "output_type": "error",
     "traceback": [
      "\u001b[1;31m---------------------------------------------------------------------------\u001b[0m",
      "\u001b[1;31mValueError\u001b[0m                                Traceback (most recent call last)",
      "\u001b[1;32m<ipython-input-5-6c8a55f197a1>\u001b[0m in \u001b[0;36m<module>\u001b[1;34m()\u001b[0m\n\u001b[0;32m      2\u001b[0m     \u001b[0mfile_name\u001b[0m \u001b[1;33m=\u001b[0m \u001b[0mnp\u001b[0m\u001b[1;33m.\u001b[0m\u001b[0mappend\u001b[0m\u001b[1;33m(\u001b[0m\u001b[0mfile_name\u001b[0m\u001b[1;33m,\u001b[0m\u001b[0mdirect\u001b[0m\u001b[1;33m+\u001b[0m\u001b[1;34m'/'\u001b[0m \u001b[1;33m+\u001b[0m \u001b[0mname\u001b[0m\u001b[1;33m)\u001b[0m\u001b[1;33m\u001b[0m\u001b[0m\n\u001b[0;32m      3\u001b[0m     \u001b[1;32mprint\u001b[0m \u001b[0mname\u001b[0m\u001b[1;33m\u001b[0m\u001b[0m\n\u001b[1;32m----> 4\u001b[1;33m     \u001b[0mindex\u001b[0m \u001b[1;33m=\u001b[0m \u001b[0mname\u001b[0m\u001b[1;33m.\u001b[0m\u001b[0mindex\u001b[0m\u001b[1;33m(\u001b[0m\u001b[1;34m'_'\u001b[0m\u001b[1;33m)\u001b[0m\u001b[1;33m\u001b[0m\u001b[0m\n\u001b[0m\u001b[0;32m      5\u001b[0m     \u001b[0msubject\u001b[0m \u001b[1;33m=\u001b[0m \u001b[0mnp\u001b[0m\u001b[1;33m.\u001b[0m\u001b[0mappend\u001b[0m\u001b[1;33m(\u001b[0m\u001b[0msubject\u001b[0m\u001b[1;33m,\u001b[0m\u001b[0mname\u001b[0m\u001b[1;33m[\u001b[0m\u001b[1;33m:\u001b[0m\u001b[0mindex\u001b[0m\u001b[1;33m]\u001b[0m\u001b[1;33m)\u001b[0m\u001b[1;33m\u001b[0m\u001b[0m\n",
      "\u001b[1;31mValueError\u001b[0m: substring not found"
     ]
    }
   ],
   "source": [
    "for name in files:\n",
    "    file_name = np.append(file_name,direct+'/' + name)\n",
    "    print name\n",
    "    index = name.index('_')\n",
    "    subject = np.append(subject,name[:index])"
   ]
  },
  {
   "cell_type": "code",
   "execution_count": 4,
   "metadata": {
    "collapsed": false
   },
   "outputs": [],
   "source": [
    "data = np.vstack((np.array(file_name), np.array(subject)))\n",
    "data = np.transpose(data)\n",
    "data = data.astype(str)\n",
    "train , test = train_test_split(data, test_size=0.25, random_state=42,stratify=subject)"
   ]
  },
  {
   "cell_type": "code",
   "execution_count": 5,
   "metadata": {
    "collapsed": false
   },
   "outputs": [],
   "source": [
    "test[0,0] = 'File_name'\n",
    "test[0,1] = 'subject'\n",
    "np.savetxt(\"test.csv\", test, delimiter=\",\",fmt='%s')"
   ]
  },
  {
   "cell_type": "code",
   "execution_count": 6,
   "metadata": {
    "collapsed": false
   },
   "outputs": [],
   "source": [
    "train[0,0] = 'File_name'\n",
    "train[0,1] = 'subject'\n",
    "np.savetxt(\"train.csv\", train, delimiter=\",\",fmt='%s')"
   ]
  },
  {
   "cell_type": "code",
   "execution_count": 7,
   "metadata": {
    "collapsed": true
   },
   "outputs": [],
   "source": [
    "import sys\n",
    "caffe_root = '/home/mckc/Downloads/opencv-2.4.13/'  # this file should be run from {caffe_root}/examples (otherwise change this line)\n",
    "sys.path.insert(0, caffe_root)"
   ]
  },
  {
   "cell_type": "code",
   "execution_count": null,
   "metadata": {
    "collapsed": true
   },
   "outputs": [],
   "source": []
  }
 ],
 "metadata": {
  "kernelspec": {
   "display_name": "Python 2",
   "language": "python",
   "name": "python2"
  },
  "language_info": {
   "codemirror_mode": {
    "name": "ipython",
    "version": 2
   },
   "file_extension": ".py",
   "mimetype": "text/x-python",
   "name": "python",
   "nbconvert_exporter": "python",
   "pygments_lexer": "ipython2",
   "version": "2.7.12"
  }
 },
 "nbformat": 4,
 "nbformat_minor": 0
}
