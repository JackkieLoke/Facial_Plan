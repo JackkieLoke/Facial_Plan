{
 "cells": [
  {
   "cell_type": "code",
   "execution_count": 53,
   "metadata": {
    "collapsed": true
   },
   "outputs": [],
   "source": [
    "import cv2\n",
    "import numpy as np\n",
    "import scipy.misc\n",
    "import os\n",
    "import dlib\n",
    "import time\n",
    "os.chdir(\"/home/mckc/Downloads/Videos//\")\n",
    "%matplotlib inline\n",
    "\n",
    "\n",
    "video_capture = cv2.VideoCapture(0)\n",
    "predictor_model = \"/home/mckc/Downloads/shape_predictor_68_face_landmarks.dat\"\n",
    "\n",
    "detector = dlib.get_frontal_face_detector()\n",
    "predictor = dlib.shape_predictor(predictor_model)\n",
    "win = dlib.image_window()\n",
    "movies = os.listdir(os.getcwd())"
   ]
  },
  {
   "cell_type": "code",
   "execution_count": null,
   "metadata": {
    "collapsed": false
   },
   "outputs": [],
   "source": [
    "for iter in movies:\n",
    "    i = 0\n",
    "    os.mkdir('/home/mckc/Downloads/moviedb/'+iter[:-4])   \n",
    "    cap = cv2.VideoCapture(iter)\n",
    "    while(cap.grab()):\n",
    "    # Capture frame-by-frame\n",
    "#    time.sleep(1)\n",
    "        ret, frame = cap.read()\n",
    "        i = i + 1 \n",
    "        if i % 20 == 0 :\n",
    "            gray = cv2.cvtColor(frame, cv2.COLOR_BGR2GRAY)\n",
    "            gray = cv2.equalizeHist(gray)\n",
    "            faces = detector(gray, 1)\n",
    "            win.clear_overlay()\n",
    "            win.set_image(frame)\n",
    "            win.add_overlay(faces)\n",
    "            dlib.hit_enter_to_continue()\n",
    "    \n",
    "    # Draw a rectangle around the faces\n",
    "            if len(faces)>0:    \n",
    "                for a,b in enumerate(faces):\n",
    "                    fac = np.array(frame)[np.clip(b.top(),0,b.bottom()):b.bottom(),np.clip(b.left(),0,b.right()):b.right(),:]\n",
    "                    if (fac.shape[0]+fac.shape[1]) / 2 > 90:\n",
    "                        scipy.misc.toimage(cv2.cvtColor(fac, cv2.COLOR_RGB2BGR)).save('/home/mckc/Downloads/moviedb/'+iter[:-4] + '/'+iter + '_'+str(i) +'.jpg')\n",
    "\n",
    "# When everything is done, release the capture\n",
    "video_capture.release()\n",
    "cv2.destroyAllWindows()"
   ]
  },
  {
   "cell_type": "code",
   "execution_count": 51,
   "metadata": {
    "collapsed": false
   },
   "outputs": [],
   "source": [
    "os.chdir('/home/mckc/Downloads/moviedb/')\n",
    "folders = os.listdir(os.getcwd())\n",
    "for i in folders:\n",
    "    files = os.listdir('/home/mckc/Downloads/moviedb/'+i)\n",
    "    for j in files:\n",
    "        image = cv2.imread('/home/mckc/Downloads/moviedb/'+i+'/'+j)\n",
    "        if(image.shape[0]+image.shape[1]) < 90:\n",
    "            os.remove('/home/mckc/Downloads/moviedb/'+i+'/'+j)"
   ]
  },
  {
   "cell_type": "code",
   "execution_count": null,
   "metadata": {
    "collapsed": true
   },
   "outputs": [],
   "source": []
  }
 ],
 "metadata": {
  "kernelspec": {
   "display_name": "Python 2",
   "language": "python",
   "name": "python2"
  },
  "language_info": {
   "codemirror_mode": {
    "name": "ipython",
    "version": 2
   },
   "file_extension": ".py",
   "mimetype": "text/x-python",
   "name": "python",
   "nbconvert_exporter": "python",
   "pygments_lexer": "ipython2",
   "version": "2.7.12"
  }
 },
 "nbformat": 4,
 "nbformat_minor": 0
}
